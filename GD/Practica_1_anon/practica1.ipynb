{
 "cells": [
  {
   "attachments": {},
   "cell_type": "markdown",
   "metadata": {},
   "source": [
    "# Práctica GD: Anonimización de datos"
   ]
  },
  {
   "cell_type": "code",
   "execution_count": 1,
   "metadata": {},
   "outputs": [],
   "source": [
    "import pandas as pd"
   ]
  },
  {
   "cell_type": "code",
   "execution_count": 2,
   "metadata": {},
   "outputs": [],
   "source": [
    "df = pd.read_excel(\"uam-personal-pdi-2020-anonimizado.xlsx\")"
   ]
  },
  {
   "cell_type": "code",
   "execution_count": 3,
   "metadata": {},
   "outputs": [],
   "source": [
    "df = df.drop(\"IMPORTANTE\", axis=1)"
   ]
  },
  {
   "cell_type": "code",
   "execution_count": 4,
   "metadata": {},
   "outputs": [
    {
     "data": {
      "text/html": [
       "<div>\n",
       "<style scoped>\n",
       "    .dataframe tbody tr th:only-of-type {\n",
       "        vertical-align: middle;\n",
       "    }\n",
       "\n",
       "    .dataframe tbody tr th {\n",
       "        vertical-align: top;\n",
       "    }\n",
       "\n",
       "    .dataframe thead th {\n",
       "        text-align: right;\n",
       "    }\n",
       "</style>\n",
       "<table border=\"1\" class=\"dataframe\">\n",
       "  <thead>\n",
       "    <tr style=\"text-align: right;\">\n",
       "      <th></th>\n",
       "      <th>cod_universidad</th>\n",
       "      <th>des_universidad</th>\n",
       "      <th>anio</th>\n",
       "      <th>cod_pais_nacionalidad</th>\n",
       "      <th>des_pais_nacionalidad</th>\n",
       "      <th>lat_pais_nacionalidad</th>\n",
       "      <th>lon_pais_nacionalidad</th>\n",
       "      <th>cod_continente_nacionalidad</th>\n",
       "      <th>des_continente_nacionalidad</th>\n",
       "      <th>cod_agregacion_paises_nacionalidad</th>\n",
       "      <th>...</th>\n",
       "      <th>des_unidad_responsable</th>\n",
       "      <th>cod_area_conocimiento</th>\n",
       "      <th>des_area_conocimiento</th>\n",
       "      <th>anio_incorporacion_ap</th>\n",
       "      <th>anio_incorpora_cuerpo_docente</th>\n",
       "      <th>num_trienios</th>\n",
       "      <th>num_quinquenios</th>\n",
       "      <th>num_sexenios</th>\n",
       "      <th>num_tesis</th>\n",
       "      <th>ind_investigador_principal</th>\n",
       "    </tr>\n",
       "  </thead>\n",
       "  <tbody>\n",
       "    <tr>\n",
       "      <th>0</th>\n",
       "      <td>23</td>\n",
       "      <td>Universidad Autónoma de Madrid</td>\n",
       "      <td>2020</td>\n",
       "      <td>724</td>\n",
       "      <td>España</td>\n",
       "      <td>40.463667</td>\n",
       "      <td>-3.74922</td>\n",
       "      <td>150</td>\n",
       "      <td>Europa</td>\n",
       "      <td>39</td>\n",
       "      <td>...</td>\n",
       "      <td>Departamento de Educación Física, Deporte y Mo...</td>\n",
       "      <td>187.0</td>\n",
       "      <td>Didáctica de la Expresión Corporal</td>\n",
       "      <td>NaN</td>\n",
       "      <td>NaN</td>\n",
       "      <td>7</td>\n",
       "      <td>4</td>\n",
       "      <td>1</td>\n",
       "      <td>NaN</td>\n",
       "      <td>S</td>\n",
       "    </tr>\n",
       "    <tr>\n",
       "      <th>1</th>\n",
       "      <td>23</td>\n",
       "      <td>Universidad Autónoma de Madrid</td>\n",
       "      <td>2020</td>\n",
       "      <td>724</td>\n",
       "      <td>España</td>\n",
       "      <td>40.463667</td>\n",
       "      <td>-3.74922</td>\n",
       "      <td>150</td>\n",
       "      <td>Europa</td>\n",
       "      <td>39</td>\n",
       "      <td>...</td>\n",
       "      <td>Departamento de Educación Física, Deporte y Mo...</td>\n",
       "      <td>187.0</td>\n",
       "      <td>Didáctica de la Expresión Corporal</td>\n",
       "      <td>1996.0</td>\n",
       "      <td>2003.0</td>\n",
       "      <td>7</td>\n",
       "      <td>4</td>\n",
       "      <td>2</td>\n",
       "      <td>NaN</td>\n",
       "      <td>N</td>\n",
       "    </tr>\n",
       "    <tr>\n",
       "      <th>2</th>\n",
       "      <td>23</td>\n",
       "      <td>Universidad Autónoma de Madrid</td>\n",
       "      <td>2020</td>\n",
       "      <td>724</td>\n",
       "      <td>España</td>\n",
       "      <td>40.463667</td>\n",
       "      <td>-3.74922</td>\n",
       "      <td>150</td>\n",
       "      <td>Europa</td>\n",
       "      <td>39</td>\n",
       "      <td>...</td>\n",
       "      <td>Departamento de Educación Física, Deporte y Mo...</td>\n",
       "      <td>187.0</td>\n",
       "      <td>Didáctica de la Expresión Corporal</td>\n",
       "      <td>NaN</td>\n",
       "      <td>NaN</td>\n",
       "      <td>5</td>\n",
       "      <td>3</td>\n",
       "      <td>0</td>\n",
       "      <td>NaN</td>\n",
       "      <td>N</td>\n",
       "    </tr>\n",
       "    <tr>\n",
       "      <th>3</th>\n",
       "      <td>23</td>\n",
       "      <td>Universidad Autónoma de Madrid</td>\n",
       "      <td>2020</td>\n",
       "      <td>724</td>\n",
       "      <td>España</td>\n",
       "      <td>40.463667</td>\n",
       "      <td>-3.74922</td>\n",
       "      <td>150</td>\n",
       "      <td>Europa</td>\n",
       "      <td>39</td>\n",
       "      <td>...</td>\n",
       "      <td>Departamento de Educación Física, Deporte y Mo...</td>\n",
       "      <td>187.0</td>\n",
       "      <td>Didáctica de la Expresión Corporal</td>\n",
       "      <td>NaN</td>\n",
       "      <td>NaN</td>\n",
       "      <td>11</td>\n",
       "      <td>5</td>\n",
       "      <td>0</td>\n",
       "      <td>NaN</td>\n",
       "      <td>N</td>\n",
       "    </tr>\n",
       "    <tr>\n",
       "      <th>4</th>\n",
       "      <td>23</td>\n",
       "      <td>Universidad Autónoma de Madrid</td>\n",
       "      <td>2020</td>\n",
       "      <td>724</td>\n",
       "      <td>España</td>\n",
       "      <td>40.463667</td>\n",
       "      <td>-3.74922</td>\n",
       "      <td>150</td>\n",
       "      <td>Europa</td>\n",
       "      <td>39</td>\n",
       "      <td>...</td>\n",
       "      <td>Departamento de Educación Física, Deporte y Mo...</td>\n",
       "      <td>187.0</td>\n",
       "      <td>Didáctica de la Expresión Corporal</td>\n",
       "      <td>NaN</td>\n",
       "      <td>NaN</td>\n",
       "      <td>0</td>\n",
       "      <td>0</td>\n",
       "      <td>0</td>\n",
       "      <td>1.0</td>\n",
       "      <td>N</td>\n",
       "    </tr>\n",
       "  </tbody>\n",
       "</table>\n",
       "<p>5 rows × 63 columns</p>\n",
       "</div>"
      ],
      "text/plain": [
       "   cod_universidad                 des_universidad  anio  \\\n",
       "0               23  Universidad Autónoma de Madrid  2020   \n",
       "1               23  Universidad Autónoma de Madrid  2020   \n",
       "2               23  Universidad Autónoma de Madrid  2020   \n",
       "3               23  Universidad Autónoma de Madrid  2020   \n",
       "4               23  Universidad Autónoma de Madrid  2020   \n",
       "\n",
       "   cod_pais_nacionalidad des_pais_nacionalidad  lat_pais_nacionalidad  \\\n",
       "0                    724                España              40.463667   \n",
       "1                    724                España              40.463667   \n",
       "2                    724                España              40.463667   \n",
       "3                    724                España              40.463667   \n",
       "4                    724                España              40.463667   \n",
       "\n",
       "   lon_pais_nacionalidad  cod_continente_nacionalidad  \\\n",
       "0               -3.74922                          150   \n",
       "1               -3.74922                          150   \n",
       "2               -3.74922                          150   \n",
       "3               -3.74922                          150   \n",
       "4               -3.74922                          150   \n",
       "\n",
       "  des_continente_nacionalidad  cod_agregacion_paises_nacionalidad  ...  \\\n",
       "0                      Europa                                  39  ...   \n",
       "1                      Europa                                  39  ...   \n",
       "2                      Europa                                  39  ...   \n",
       "3                      Europa                                  39  ...   \n",
       "4                      Europa                                  39  ...   \n",
       "\n",
       "                              des_unidad_responsable  cod_area_conocimiento  \\\n",
       "0  Departamento de Educación Física, Deporte y Mo...                  187.0   \n",
       "1  Departamento de Educación Física, Deporte y Mo...                  187.0   \n",
       "2  Departamento de Educación Física, Deporte y Mo...                  187.0   \n",
       "3  Departamento de Educación Física, Deporte y Mo...                  187.0   \n",
       "4  Departamento de Educación Física, Deporte y Mo...                  187.0   \n",
       "\n",
       "                des_area_conocimiento  anio_incorporacion_ap  \\\n",
       "0  Didáctica de la Expresión Corporal                    NaN   \n",
       "1  Didáctica de la Expresión Corporal                 1996.0   \n",
       "2  Didáctica de la Expresión Corporal                    NaN   \n",
       "3  Didáctica de la Expresión Corporal                    NaN   \n",
       "4  Didáctica de la Expresión Corporal                    NaN   \n",
       "\n",
       "  anio_incorpora_cuerpo_docente  num_trienios num_quinquenios  num_sexenios  \\\n",
       "0                           NaN             7               4             1   \n",
       "1                        2003.0             7               4             2   \n",
       "2                           NaN             5               3             0   \n",
       "3                           NaN            11               5             0   \n",
       "4                           NaN             0               0             0   \n",
       "\n",
       "   num_tesis ind_investigador_principal  \n",
       "0        NaN                          S  \n",
       "1        NaN                          N  \n",
       "2        NaN                          N  \n",
       "3        NaN                          N  \n",
       "4        1.0                          N  \n",
       "\n",
       "[5 rows x 63 columns]"
      ]
     },
     "execution_count": 4,
     "metadata": {},
     "output_type": "execute_result"
    }
   ],
   "source": [
    "df.head()"
   ]
  },
  {
   "cell_type": "code",
   "execution_count": 5,
   "metadata": {},
   "outputs": [],
   "source": [
    "df = df[(df[\"cod_genero\"]) == \"H\"] "
   ]
  },
  {
   "cell_type": "code",
   "execution_count": 6,
   "metadata": {},
   "outputs": [],
   "source": [
    "df = df[(df[\"cod_unidad_responsable\"]) == 55001545]"
   ]
  },
  {
   "cell_type": "code",
   "execution_count": 7,
   "metadata": {},
   "outputs": [
    {
     "data": {
      "text/plain": [
       "(54, 63)"
      ]
     },
     "execution_count": 7,
     "metadata": {},
     "output_type": "execute_result"
    }
   ],
   "source": [
    "df.shape"
   ]
  },
  {
   "cell_type": "code",
   "execution_count": 9,
   "metadata": {},
   "outputs": [],
   "source": [
    "cols = df.columns\n",
    "cols_delete = []\n",
    "for col in cols:\n",
    "    if ((col[0:4] == \"cod_\") or (col[0:4] == \"lat_\") or (col[0:4] == \"lon_\")):\n",
    "        cols_delete.append(col)"
   ]
  },
  {
   "cell_type": "code",
   "execution_count": 10,
   "metadata": {},
   "outputs": [],
   "source": [
    "df = df.drop(cols_delete, axis=1)"
   ]
  },
  {
   "cell_type": "code",
   "execution_count": 11,
   "metadata": {},
   "outputs": [
    {
     "data": {
      "text/plain": [
       "(54, 35)"
      ]
     },
     "execution_count": 11,
     "metadata": {},
     "output_type": "execute_result"
    }
   ],
   "source": [
    "df.shape"
   ]
  },
  {
   "cell_type": "code",
   "execution_count": 12,
   "metadata": {},
   "outputs": [
    {
     "data": {
      "text/plain": [
       "Index(['des_universidad', 'anio', 'des_pais_nacionalidad',\n",
       "       'des_continente_nacionalidad', 'des_agregacion_paises_nacionalidad',\n",
       "       'des_comunidad_residencia', 'des_provincia_residencia',\n",
       "       'des_municipio_residencia', 'des_genero', 'anio_nacimiento',\n",
       "       'des_tipo_personal', 'des_categoria_cuerpo_escala', 'des_tipo_contrato',\n",
       "       'des_dedicacion', 'num_horas_semanales_tiempo_parcial',\n",
       "       'des_situacion_administrativa', 'ind_cargo_remunerado',\n",
       "       'des_titulo_doctorado', 'des_pais_doctorado',\n",
       "       'des_continente_doctorado', 'des_agregacion_paises_doctorado',\n",
       "       'des_universidad_doctorado', 'anio_lectura_tesis',\n",
       "       'anio_expedicion_titulo_doctor', 'des_mencion_europea',\n",
       "       'des_tipo_unidad_responsable', 'des_unidad_responsable',\n",
       "       'des_area_conocimiento', 'anio_incorporacion_ap',\n",
       "       'anio_incorpora_cuerpo_docente', 'num_trienios', 'num_quinquenios',\n",
       "       'num_sexenios', 'num_tesis', 'ind_investigador_principal'],\n",
       "      dtype='object')"
      ]
     },
     "execution_count": 12,
     "metadata": {},
     "output_type": "execute_result"
    }
   ],
   "source": [
    "df.columns"
   ]
  },
  {
   "cell_type": "code",
   "execution_count": 13,
   "metadata": {},
   "outputs": [
    {
     "data": {
      "text/plain": [
       "array(['Universidad Autónoma de Madrid'], dtype=object)"
      ]
     },
     "execution_count": 13,
     "metadata": {},
     "output_type": "execute_result"
    }
   ],
   "source": [
    "df[\"des_universidad\"].unique()"
   ]
  },
  {
   "cell_type": "code",
   "execution_count": 14,
   "metadata": {},
   "outputs": [
    {
     "data": {
      "text/plain": [
       "array([2020], dtype=int64)"
      ]
     },
     "execution_count": 14,
     "metadata": {},
     "output_type": "execute_result"
    }
   ],
   "source": [
    "df[\"anio\"].unique()"
   ]
  },
  {
   "cell_type": "code",
   "execution_count": 15,
   "metadata": {},
   "outputs": [
    {
     "data": {
      "text/plain": [
       "array(['España', 'Italia'], dtype=object)"
      ]
     },
     "execution_count": 15,
     "metadata": {},
     "output_type": "execute_result"
    }
   ],
   "source": [
    "df[\"des_pais_nacionalidad\"].unique()"
   ]
  },
  {
   "cell_type": "code",
   "execution_count": 16,
   "metadata": {},
   "outputs": [
    {
     "name": "stdout",
     "output_type": "stream",
     "text": [
      "La probabilidad de que el pais de nacionalidad sea España es:\n",
      "96.29629629629629\n"
     ]
    }
   ],
   "source": [
    "print(\"La probabilidad de que el pais de nacionalidad sea España es:\")\n",
    "print((len(df[(df[\"des_pais_nacionalidad\"] == \"España\")])/df.shape[0])*100)"
   ]
  },
  {
   "cell_type": "code",
   "execution_count": 17,
   "metadata": {},
   "outputs": [
    {
     "data": {
      "text/plain": [
       "array(['Europa'], dtype=object)"
      ]
     },
     "execution_count": 17,
     "metadata": {},
     "output_type": "execute_result"
    }
   ],
   "source": [
    "df[\"des_continente_nacionalidad\"].unique()"
   ]
  },
  {
   "cell_type": "code",
   "execution_count": 18,
   "metadata": {},
   "outputs": [
    {
     "data": {
      "text/plain": [
       "array(['Europa meridional'], dtype=object)"
      ]
     },
     "execution_count": 18,
     "metadata": {},
     "output_type": "execute_result"
    }
   ],
   "source": [
    "df[\"des_agregacion_paises_nacionalidad\"].unique()"
   ]
  },
  {
   "cell_type": "code",
   "execution_count": 19,
   "metadata": {},
   "outputs": [
    {
     "data": {
      "text/plain": [
       "array(['Madrid'], dtype=object)"
      ]
     },
     "execution_count": 19,
     "metadata": {},
     "output_type": "execute_result"
    }
   ],
   "source": [
    "df[\"des_comunidad_residencia\"].unique()"
   ]
  },
  {
   "cell_type": "code",
   "execution_count": 20,
   "metadata": {},
   "outputs": [
    {
     "data": {
      "text/plain": [
       "array(['Madrid'], dtype=object)"
      ]
     },
     "execution_count": 20,
     "metadata": {},
     "output_type": "execute_result"
    }
   ],
   "source": [
    "df[\"des_provincia_residencia\"].unique()"
   ]
  },
  {
   "cell_type": "code",
   "execution_count": 21,
   "metadata": {},
   "outputs": [
    {
     "data": {
      "text/plain": [
       "array(['MADRID', 'POZUELO DE ALARCÓN', 'ALCOBENDAS', 'TRES CANTOS',\n",
       "       'HOYO DE MANZANARES', 'COLMENAR VIEJO', 'ALGETE',\n",
       "       'ALCALÁ DE HENARES', 'GALAPAGAR', 'SAN SEBASTIÁN DE LOS REYES',\n",
       "       'BOALO, EL', 'ALCORCÓN', 'MORALZARZAL', 'COLMENAREJO',\n",
       "       'FUENLABRADA'], dtype=object)"
      ]
     },
     "execution_count": 21,
     "metadata": {},
     "output_type": "execute_result"
    }
   ],
   "source": [
    "df[\"des_municipio_residencia\"].unique()"
   ]
  },
  {
   "cell_type": "code",
   "execution_count": 22,
   "metadata": {},
   "outputs": [
    {
     "data": {
      "text/plain": [
       "{'MADRID': 27,\n",
       " 'POZUELO DE ALARCÓN': 1,\n",
       " 'ALCOBENDAS': 4,\n",
       " 'TRES CANTOS': 3,\n",
       " 'HOYO DE MANZANARES': 1,\n",
       " 'COLMENAR VIEJO': 6,\n",
       " 'ALGETE': 1,\n",
       " 'ALCALÁ DE HENARES': 1,\n",
       " 'GALAPAGAR': 1,\n",
       " 'SAN SEBASTIÁN DE LOS REYES': 4,\n",
       " 'BOALO, EL': 1,\n",
       " 'ALCORCÓN': 1,\n",
       " 'MORALZARZAL': 1,\n",
       " 'COLMENAREJO': 1,\n",
       " 'FUENLABRADA': 1}"
      ]
     },
     "execution_count": 22,
     "metadata": {},
     "output_type": "execute_result"
    }
   ],
   "source": [
    "dic = {}\n",
    "for categoria in df[\"des_municipio_residencia\"]:\n",
    "    if categoria not in dic:\n",
    "        dic[categoria] = 1\n",
    "    else:\n",
    "        dic[categoria] +=1\n",
    "dic"
   ]
  },
  {
   "cell_type": "code",
   "execution_count": 23,
   "metadata": {},
   "outputs": [
    {
     "name": "stdout",
     "output_type": "stream",
     "text": [
      "La probabilidad de que el municipio de residencia sea Madrid, que es el más probable, es:\n",
      "50.0\n"
     ]
    }
   ],
   "source": [
    "print(\"La probabilidad de que el municipio de residencia sea Madrid, que es el más probable, es:\")\n",
    "print((len(df[(df[\"des_municipio_residencia\"] == \"MADRID\")])/df.shape[0])*100)"
   ]
  },
  {
   "cell_type": "code",
   "execution_count": 24,
   "metadata": {},
   "outputs": [
    {
     "data": {
      "text/plain": [
       "array(['Hombre'], dtype=object)"
      ]
     },
     "execution_count": 24,
     "metadata": {},
     "output_type": "execute_result"
    }
   ],
   "source": [
    "df[\"des_genero\"].unique()"
   ]
  },
  {
   "cell_type": "code",
   "execution_count": 25,
   "metadata": {},
   "outputs": [
    {
     "data": {
      "text/plain": [
       "array([1988, 1980, 1964, 1978, 1985, 1982, 1981, 1970, 1963, 1976, 1972,\n",
       "       1977, 1986, 1966, 1965, 1967, 1975, 1958, 1955, 1968, 1950, 1971,\n",
       "       1984, 1961, 1969, 1960, 1990, 1974, 1973, 1962], dtype=int64)"
      ]
     },
     "execution_count": 25,
     "metadata": {},
     "output_type": "execute_result"
    }
   ],
   "source": [
    "df[\"anio_nacimiento\"].unique()"
   ]
  },
  {
   "cell_type": "code",
   "execution_count": 26,
   "metadata": {},
   "outputs": [],
   "source": [
    "dic = {}\n",
    "for categoria in df[\"anio_nacimiento\"]:\n",
    "    if categoria not in dic:\n",
    "        dic[categoria] = 1\n",
    "    else:\n",
    "        dic[categoria] +=1"
   ]
  },
  {
   "cell_type": "code",
   "execution_count": 27,
   "metadata": {},
   "outputs": [
    {
     "name": "stdout",
     "output_type": "stream",
     "text": [
      "La probabilidad de que el año de nacimiento sea 1967, que es el más probable, es:\n",
      "7.4074074074074066\n"
     ]
    }
   ],
   "source": [
    "print(\"La probabilidad de que el año de nacimiento sea 1967, que es el más probable, es:\")\n",
    "print((len(df[(df[\"anio_nacimiento\"] == 1967)])/df.shape[0])*100)"
   ]
  },
  {
   "cell_type": "code",
   "execution_count": 28,
   "metadata": {},
   "outputs": [
    {
     "data": {
      "text/plain": [
       "array(['Personal laboral', 'Funcionario de carrera'], dtype=object)"
      ]
     },
     "execution_count": 28,
     "metadata": {},
     "output_type": "execute_result"
    }
   ],
   "source": [
    "df[\"des_tipo_personal\"].unique()"
   ]
  },
  {
   "cell_type": "code",
   "execution_count": 29,
   "metadata": {},
   "outputs": [
    {
     "data": {
      "text/plain": [
       "{'Personal laboral': 34, 'Funcionario de carrera': 20}"
      ]
     },
     "execution_count": 29,
     "metadata": {},
     "output_type": "execute_result"
    }
   ],
   "source": [
    "dic = {}\n",
    "for categoria in df[\"des_tipo_personal\"]:\n",
    "    if categoria not in dic:\n",
    "        dic[categoria] = 1\n",
    "    else:\n",
    "        dic[categoria] +=1\n",
    "dic"
   ]
  },
  {
   "cell_type": "code",
   "execution_count": 30,
   "metadata": {},
   "outputs": [
    {
     "name": "stdout",
     "output_type": "stream",
     "text": [
      "La probabilidad de que el tipo de personal sea Personal laboral, que es el más probable, es:\n",
      "62.96296296296296\n"
     ]
    }
   ],
   "source": [
    "print(\"La probabilidad de que el tipo de personal sea \"\"Personal laboral\"\", que es el más probable, es:\")\n",
    "print((len(df[(df[\"des_tipo_personal\"] == \"Personal laboral\")])/df.shape[0])*100)"
   ]
  },
  {
   "cell_type": "code",
   "execution_count": 31,
   "metadata": {},
   "outputs": [
    {
     "data": {
      "text/plain": [
       "array(['Profesor Ayudante Doctor', 'Profesor Titular de Universidad',\n",
       "       'Profesor Contratado Doctor', 'Profesor Asociado',\n",
       "       'Catedrático de Universidad', 'Ayudante'], dtype=object)"
      ]
     },
     "execution_count": 31,
     "metadata": {},
     "output_type": "execute_result"
    }
   ],
   "source": [
    "df[\"des_categoria_cuerpo_escala\"].unique()"
   ]
  },
  {
   "cell_type": "code",
   "execution_count": 32,
   "metadata": {},
   "outputs": [
    {
     "data": {
      "text/plain": [
       "{'Profesor Ayudante Doctor': 5,\n",
       " 'Profesor Titular de Universidad': 14,\n",
       " 'Profesor Contratado Doctor': 16,\n",
       " 'Profesor Asociado': 10,\n",
       " 'Catedrático de Universidad': 6,\n",
       " 'Ayudante': 3}"
      ]
     },
     "execution_count": 32,
     "metadata": {},
     "output_type": "execute_result"
    }
   ],
   "source": [
    "dic = {}\n",
    "for categoria in df[\"des_categoria_cuerpo_escala\"]:\n",
    "    if categoria not in dic:\n",
    "        dic[categoria] = 1\n",
    "    else:\n",
    "        dic[categoria] +=1\n",
    "dic"
   ]
  },
  {
   "cell_type": "code",
   "execution_count": 33,
   "metadata": {},
   "outputs": [
    {
     "name": "stdout",
     "output_type": "stream",
     "text": [
      "La probabilidad de que la categoría de cuerpo escala sea Profesor Contratado Doctor, que es el más probable, es:\n",
      "29.629629629629626\n"
     ]
    }
   ],
   "source": [
    "print(\"La probabilidad de que la categoría de cuerpo escala sea \"\"Profesor Contratado Doctor\"\", que es el más probable, es:\")\n",
    "print((len(df[(df[\"des_categoria_cuerpo_escala\"] == \"Profesor Contratado Doctor\")])/df.shape[0])*100)"
   ]
  },
  {
   "cell_type": "code",
   "execution_count": 34,
   "metadata": {},
   "outputs": [
    {
     "data": {
      "text/plain": [
       "array(['Contrato de Duración Determinada',\n",
       "       'Personal Funcionario\\\\Personal eventual',\n",
       "       'Contrato Indefinido o Fijo'], dtype=object)"
      ]
     },
     "execution_count": 34,
     "metadata": {},
     "output_type": "execute_result"
    }
   ],
   "source": [
    "df[\"des_tipo_contrato\"].unique()"
   ]
  },
  {
   "cell_type": "code",
   "execution_count": 35,
   "metadata": {},
   "outputs": [
    {
     "data": {
      "text/plain": [
       "{'Contrato de Duración Determinada': 21,\n",
       " 'Personal Funcionario\\\\Personal eventual': 20,\n",
       " 'Contrato Indefinido o Fijo': 13}"
      ]
     },
     "execution_count": 35,
     "metadata": {},
     "output_type": "execute_result"
    }
   ],
   "source": [
    "dic = {}\n",
    "for categoria in df[\"des_tipo_contrato\"]:\n",
    "    if categoria not in dic:\n",
    "        dic[categoria] = 1\n",
    "    else:\n",
    "        dic[categoria] +=1\n",
    "dic"
   ]
  },
  {
   "cell_type": "code",
   "execution_count": 36,
   "metadata": {},
   "outputs": [
    {
     "name": "stdout",
     "output_type": "stream",
     "text": [
      "La probabilidad de que el tipo de contrato sea Contrato de Duración Determinada, que es el más probable, es:\n",
      "38.88888888888889\n"
     ]
    }
   ],
   "source": [
    "print(\"La probabilidad de que el tipo de contrato sea \"\"Contrato de Duración Determinada\"\", que es el más probable, es:\")\n",
    "print((len(df[(df[\"des_tipo_contrato\"] == \"Contrato de Duración Determinada\")])/df.shape[0])*100)"
   ]
  },
  {
   "cell_type": "code",
   "execution_count": 37,
   "metadata": {},
   "outputs": [
    {
     "data": {
      "text/plain": [
       "array(['Dedicación a Tiempo Completo', 'Dedicación a Tiempo Parcial'],\n",
       "      dtype=object)"
      ]
     },
     "execution_count": 37,
     "metadata": {},
     "output_type": "execute_result"
    }
   ],
   "source": [
    "df[\"des_dedicacion\"].unique()"
   ]
  },
  {
   "cell_type": "code",
   "execution_count": 38,
   "metadata": {},
   "outputs": [
    {
     "data": {
      "text/plain": [
       "{'Dedicación a Tiempo Completo': 44, 'Dedicación a Tiempo Parcial': 10}"
      ]
     },
     "execution_count": 38,
     "metadata": {},
     "output_type": "execute_result"
    }
   ],
   "source": [
    "dic = {}\n",
    "for categoria in df[\"des_dedicacion\"]:\n",
    "    if categoria not in dic:\n",
    "        dic[categoria] = 1\n",
    "    else:\n",
    "        dic[categoria] +=1\n",
    "dic"
   ]
  },
  {
   "cell_type": "code",
   "execution_count": 39,
   "metadata": {},
   "outputs": [
    {
     "name": "stdout",
     "output_type": "stream",
     "text": [
      "La probabilidad de que la dedicación sea Dedicación a Tiempo Completo, que es el más probable, es:\n",
      "81.48148148148148\n"
     ]
    }
   ],
   "source": [
    "print(\"La probabilidad de que la dedicación sea \"\"Dedicación a Tiempo Completo\"\", que es el más probable, es:\")\n",
    "print((len(df[(df[\"des_dedicacion\"] == \"Dedicación a Tiempo Completo\")])/df.shape[0])*100)"
   ]
  },
  {
   "cell_type": "code",
   "execution_count": 40,
   "metadata": {},
   "outputs": [
    {
     "data": {
      "text/plain": [
       "array([nan,  8.])"
      ]
     },
     "execution_count": 40,
     "metadata": {},
     "output_type": "execute_result"
    }
   ],
   "source": [
    "df[\"num_horas_semanales_tiempo_parcial\"].unique()"
   ]
  },
  {
   "cell_type": "code",
   "execution_count": 41,
   "metadata": {},
   "outputs": [
    {
     "data": {
      "text/plain": [
       "{nan: 1,\n",
       " nan: 1,\n",
       " nan: 1,\n",
       " nan: 1,\n",
       " 8.0: 10,\n",
       " nan: 1,\n",
       " nan: 1,\n",
       " nan: 1,\n",
       " nan: 1,\n",
       " nan: 1,\n",
       " nan: 1,\n",
       " nan: 1,\n",
       " nan: 1,\n",
       " nan: 1,\n",
       " nan: 1,\n",
       " nan: 1,\n",
       " nan: 1,\n",
       " nan: 1,\n",
       " nan: 1,\n",
       " nan: 1,\n",
       " nan: 1,\n",
       " nan: 1,\n",
       " nan: 1,\n",
       " nan: 1,\n",
       " nan: 1,\n",
       " nan: 1,\n",
       " nan: 1,\n",
       " nan: 1,\n",
       " nan: 1,\n",
       " nan: 1,\n",
       " nan: 1,\n",
       " nan: 1,\n",
       " nan: 1,\n",
       " nan: 1,\n",
       " nan: 1,\n",
       " nan: 1,\n",
       " nan: 1,\n",
       " nan: 1,\n",
       " nan: 1,\n",
       " nan: 1,\n",
       " nan: 1,\n",
       " nan: 1,\n",
       " nan: 1,\n",
       " nan: 1,\n",
       " nan: 1}"
      ]
     },
     "execution_count": 41,
     "metadata": {},
     "output_type": "execute_result"
    }
   ],
   "source": [
    "dic = {}\n",
    "for categoria in df[\"num_horas_semanales_tiempo_parcial\"]:\n",
    "    if categoria not in dic:\n",
    "        dic[categoria] = 1\n",
    "    else:\n",
    "        dic[categoria] +=1\n",
    "dic"
   ]
  },
  {
   "cell_type": "code",
   "execution_count": 42,
   "metadata": {},
   "outputs": [
    {
     "name": "stdout",
     "output_type": "stream",
     "text": [
      "La probabilidad de que el número de horas semanales a tiempo parcial sea nan, que es el más probable, es:\n",
      "81.4814814814815\n"
     ]
    }
   ],
   "source": [
    "print(\"La probabilidad de que el número de horas semanales a tiempo parcial sea \"\"nan\"\", que es el más probable, es:\")\n",
    "print((1-len(df[(df[\"num_horas_semanales_tiempo_parcial\"] == 8.0)])/df.shape[0])*100)"
   ]
  },
  {
   "cell_type": "code",
   "execution_count": 43,
   "metadata": {},
   "outputs": [
    {
     "data": {
      "text/plain": [
       "array(['Servicio Activo'], dtype=object)"
      ]
     },
     "execution_count": 43,
     "metadata": {},
     "output_type": "execute_result"
    }
   ],
   "source": [
    "df[\"des_situacion_administrativa\"].unique()"
   ]
  },
  {
   "cell_type": "code",
   "execution_count": 44,
   "metadata": {},
   "outputs": [
    {
     "data": {
      "text/plain": [
       "array(['N', 'S'], dtype=object)"
      ]
     },
     "execution_count": 44,
     "metadata": {},
     "output_type": "execute_result"
    }
   ],
   "source": [
    "df[\"ind_cargo_remunerado\"].unique()"
   ]
  },
  {
   "cell_type": "code",
   "execution_count": 45,
   "metadata": {},
   "outputs": [
    {
     "data": {
      "text/plain": [
       "{'N': 45, 'S': 9}"
      ]
     },
     "execution_count": 45,
     "metadata": {},
     "output_type": "execute_result"
    }
   ],
   "source": [
    "dic = {}\n",
    "for categoria in df[\"ind_cargo_remunerado\"]:\n",
    "    if categoria not in dic:\n",
    "        dic[categoria] = 1\n",
    "    else:\n",
    "        dic[categoria] +=1\n",
    "dic"
   ]
  },
  {
   "cell_type": "code",
   "execution_count": 46,
   "metadata": {},
   "outputs": [
    {
     "name": "stdout",
     "output_type": "stream",
     "text": [
      "La probabilidad de que el cargo remunerado sea N, que es el más probable, es:\n",
      "83.33333333333334\n"
     ]
    }
   ],
   "source": [
    "print(\"La probabilidad de que el cargo remunerado sea \"\"N\"\", que es el más probable, es:\")\n",
    "print((len(df[(df[\"ind_cargo_remunerado\"] == \"N\")])/df.shape[0])*100)"
   ]
  },
  {
   "cell_type": "code",
   "execution_count": 47,
   "metadata": {},
   "outputs": [
    {
     "data": {
      "text/plain": [
       "array(['No', 'Uno'], dtype=object)"
      ]
     },
     "execution_count": 47,
     "metadata": {},
     "output_type": "execute_result"
    }
   ],
   "source": [
    "df[\"des_titulo_doctorado\"].unique()"
   ]
  },
  {
   "cell_type": "code",
   "execution_count": 48,
   "metadata": {},
   "outputs": [
    {
     "data": {
      "text/plain": [
       "{'No': 9, 'Uno': 45}"
      ]
     },
     "execution_count": 48,
     "metadata": {},
     "output_type": "execute_result"
    }
   ],
   "source": [
    "dic = {}\n",
    "for categoria in df[\"des_titulo_doctorado\"]:\n",
    "    if categoria not in dic:\n",
    "        dic[categoria] = 1\n",
    "    else:\n",
    "        dic[categoria] +=1\n",
    "dic"
   ]
  },
  {
   "cell_type": "code",
   "execution_count": 49,
   "metadata": {},
   "outputs": [
    {
     "name": "stdout",
     "output_type": "stream",
     "text": [
      "La probabilidad de que el título doctorado sea Uno, que es el más probable, es:\n",
      "83.33333333333334\n"
     ]
    }
   ],
   "source": [
    "print(\"La probabilidad de que el título doctorado sea \"\"Uno\"\", que es el más probable, es:\")\n",
    "print((len(df[(df[\"des_titulo_doctorado\"] == \"Uno\")])/df.shape[0])*100)"
   ]
  },
  {
   "cell_type": "code",
   "execution_count": 50,
   "metadata": {},
   "outputs": [
    {
     "data": {
      "text/plain": [
       "array([nan, 'España'], dtype=object)"
      ]
     },
     "execution_count": 50,
     "metadata": {},
     "output_type": "execute_result"
    }
   ],
   "source": [
    "df[\"des_pais_doctorado\"].unique()"
   ]
  },
  {
   "cell_type": "code",
   "execution_count": 51,
   "metadata": {},
   "outputs": [
    {
     "data": {
      "text/plain": [
       "{nan: 29, 'España': 25}"
      ]
     },
     "execution_count": 51,
     "metadata": {},
     "output_type": "execute_result"
    }
   ],
   "source": [
    "dic = {}\n",
    "for categoria in df[\"des_pais_doctorado\"]:\n",
    "    if categoria not in dic:\n",
    "        dic[categoria] = 1\n",
    "    else:\n",
    "        dic[categoria] +=1\n",
    "dic"
   ]
  },
  {
   "cell_type": "code",
   "execution_count": 52,
   "metadata": {},
   "outputs": [
    {
     "name": "stdout",
     "output_type": "stream",
     "text": [
      "La probabilidad de que el país doctorado sea nan, que es el más probable, es:\n",
      "53.703703703703695\n"
     ]
    }
   ],
   "source": [
    "print(\"La probabilidad de que el país doctorado sea \"\"nan\"\", que es el más probable, es:\")\n",
    "print((1-len(df[(df[\"des_pais_doctorado\"] == \"España\")])/df.shape[0])*100)"
   ]
  },
  {
   "cell_type": "code",
   "execution_count": 53,
   "metadata": {},
   "outputs": [
    {
     "data": {
      "text/plain": [
       "array([nan, 'Europa'], dtype=object)"
      ]
     },
     "execution_count": 53,
     "metadata": {},
     "output_type": "execute_result"
    }
   ],
   "source": [
    "df[\"des_continente_doctorado\"].unique()"
   ]
  },
  {
   "cell_type": "code",
   "execution_count": 54,
   "metadata": {},
   "outputs": [
    {
     "data": {
      "text/plain": [
       "{nan: 29, 'Europa': 25}"
      ]
     },
     "execution_count": 54,
     "metadata": {},
     "output_type": "execute_result"
    }
   ],
   "source": [
    "dic = {}\n",
    "for categoria in df[\"des_continente_doctorado\"]:\n",
    "    if categoria not in dic:\n",
    "        dic[categoria] = 1\n",
    "    else:\n",
    "        dic[categoria] +=1\n",
    "dic"
   ]
  },
  {
   "cell_type": "code",
   "execution_count": 55,
   "metadata": {},
   "outputs": [
    {
     "name": "stdout",
     "output_type": "stream",
     "text": [
      "La probabilidad de que el continente de doctorado sea nan, que es el más probable, es:\n",
      "53.703703703703695\n"
     ]
    }
   ],
   "source": [
    "print(\"La probabilidad de que el continente de doctorado sea \"\"nan\"\", que es el más probable, es:\")\n",
    "print((1-len(df[(df[\"des_continente_doctorado\"] == \"Europa\")])/df.shape[0])*100)"
   ]
  },
  {
   "cell_type": "code",
   "execution_count": 56,
   "metadata": {},
   "outputs": [
    {
     "data": {
      "text/plain": [
       "array([nan, 'Europa meridional'], dtype=object)"
      ]
     },
     "execution_count": 56,
     "metadata": {},
     "output_type": "execute_result"
    }
   ],
   "source": [
    "df[\"des_agregacion_paises_doctorado\"].unique()"
   ]
  },
  {
   "cell_type": "code",
   "execution_count": 57,
   "metadata": {},
   "outputs": [
    {
     "data": {
      "text/plain": [
       "{nan: 29, 'Europa meridional': 25}"
      ]
     },
     "execution_count": 57,
     "metadata": {},
     "output_type": "execute_result"
    }
   ],
   "source": [
    "dic = {}\n",
    "for categoria in df[\"des_agregacion_paises_doctorado\"]:\n",
    "    if categoria not in dic:\n",
    "        dic[categoria] = 1\n",
    "    else:\n",
    "        dic[categoria] +=1\n",
    "dic"
   ]
  },
  {
   "cell_type": "code",
   "execution_count": 58,
   "metadata": {},
   "outputs": [
    {
     "name": "stdout",
     "output_type": "stream",
     "text": [
      "La probabilidad de que la agregación de paises de doctorado sea nan, que es el más probable, es:\n",
      "53.703703703703695\n"
     ]
    }
   ],
   "source": [
    "print(\"La probabilidad de que la agregación de paises de doctorado sea \"\"nan\"\", que es el más probable, es:\")\n",
    "print((1-len(df[(df[\"des_agregacion_paises_doctorado\"] == \"Europa meridional\")])/df.shape[0])*100)"
   ]
  },
  {
   "cell_type": "code",
   "execution_count": 59,
   "metadata": {},
   "outputs": [
    {
     "data": {
      "text/plain": [
       "array([nan, 'Universidad Autónoma de Madrid',\n",
       "       'Universidad de Castilla-La Mancha',\n",
       "       'Universidad Carlos III de Madrid',\n",
       "       'Universidad de Santiago de Compostela',\n",
       "       'Universidad Complutense de Madrid',\n",
       "       'Universidad Politécnica de Madrid'], dtype=object)"
      ]
     },
     "execution_count": 59,
     "metadata": {},
     "output_type": "execute_result"
    }
   ],
   "source": [
    "df[\"des_universidad_doctorado\"].unique()"
   ]
  },
  {
   "cell_type": "code",
   "execution_count": 60,
   "metadata": {},
   "outputs": [
    {
     "data": {
      "text/plain": [
       "{nan: 29,\n",
       " 'Universidad Autónoma de Madrid': 19,\n",
       " 'Universidad de Castilla-La Mancha': 2,\n",
       " 'Universidad Carlos III de Madrid': 1,\n",
       " 'Universidad de Santiago de Compostela': 1,\n",
       " 'Universidad Complutense de Madrid': 1,\n",
       " 'Universidad Politécnica de Madrid': 1}"
      ]
     },
     "execution_count": 60,
     "metadata": {},
     "output_type": "execute_result"
    }
   ],
   "source": [
    "dic = {}\n",
    "for categoria in df[\"des_universidad_doctorado\"]:\n",
    "    if categoria not in dic:\n",
    "        dic[categoria] = 1\n",
    "    else:\n",
    "        dic[categoria] +=1\n",
    "dic"
   ]
  },
  {
   "cell_type": "code",
   "execution_count": 61,
   "metadata": {},
   "outputs": [
    {
     "name": "stdout",
     "output_type": "stream",
     "text": [
      "La probabilidad de que la universidad de doctorado sea Universidad Autónoma de Madrid, que es el más probable, es:\n",
      "35.18518518518518\n"
     ]
    }
   ],
   "source": [
    "print(\"La probabilidad de que la universidad de doctorado sea \"\"Universidad Autónoma de Madrid\"\", que es el más probable, es:\")\n",
    "print((len(df[(df[\"des_universidad_doctorado\"] == \"Universidad Autónoma de Madrid\")])/df.shape[0])*100)"
   ]
  },
  {
   "cell_type": "code",
   "execution_count": 62,
   "metadata": {},
   "outputs": [
    {
     "data": {
      "text/plain": [
       "array([  nan, 2003., 2002., 1990., 1993., 1997., 2010., 1994., 2011.,\n",
       "       2000., 1995., 2007., 2006., 2008., 1999., 1991., 2005., 1992.,\n",
       "       2004., 1982., 2018., 2015., 2014.])"
      ]
     },
     "execution_count": 62,
     "metadata": {},
     "output_type": "execute_result"
    }
   ],
   "source": [
    "df[\"anio_lectura_tesis\"].unique()"
   ]
  },
  {
   "cell_type": "code",
   "execution_count": 63,
   "metadata": {},
   "outputs": [
    {
     "name": "stdout",
     "output_type": "stream",
     "text": [
      "La probabilidad del año de lectura de tesis sea 2000 es del 100%\n"
     ]
    }
   ],
   "source": [
    "print(\"La probabilidad del año de lectura de tesis sea \"\"2000\"\" es del 100%\")"
   ]
  },
  {
   "cell_type": "code",
   "execution_count": 64,
   "metadata": {},
   "outputs": [
    {
     "data": {
      "text/plain": [
       "array([  nan, 2003., 2010., 2000., 1995., 2007., 2006., 2008., 2009.,\n",
       "       2004., 1998., 2018., 2012., 2015., 2014., 2016.])"
      ]
     },
     "execution_count": 64,
     "metadata": {},
     "output_type": "execute_result"
    }
   ],
   "source": [
    "df[\"anio_expedicion_titulo_doctor\"].unique()"
   ]
  },
  {
   "cell_type": "code",
   "execution_count": 65,
   "metadata": {},
   "outputs": [
    {
     "name": "stdout",
     "output_type": "stream",
     "text": [
      "La probabilidad del año de expedicion de titulo de doctor sea 2000 es del 100%\n"
     ]
    }
   ],
   "source": [
    "print(\"La probabilidad del año de expedicion de titulo de doctor sea \"\"2000\"\" es del 100%\")"
   ]
  },
  {
   "cell_type": "code",
   "execution_count": 66,
   "metadata": {},
   "outputs": [
    {
     "data": {
      "text/plain": [
       "array([nan, 'No'], dtype=object)"
      ]
     },
     "execution_count": 66,
     "metadata": {},
     "output_type": "execute_result"
    }
   ],
   "source": [
    "df[\"des_mencion_europea\"].unique()"
   ]
  },
  {
   "cell_type": "code",
   "execution_count": 67,
   "metadata": {},
   "outputs": [
    {
     "data": {
      "text/plain": [
       "{nan: 9, 'No': 45}"
      ]
     },
     "execution_count": 67,
     "metadata": {},
     "output_type": "execute_result"
    }
   ],
   "source": [
    "dic = {}\n",
    "for categoria in df[\"des_mencion_europea\"]:\n",
    "    if categoria not in dic:\n",
    "        dic[categoria] = 1\n",
    "    else:\n",
    "        dic[categoria] +=1\n",
    "dic"
   ]
  },
  {
   "cell_type": "code",
   "execution_count": 68,
   "metadata": {},
   "outputs": [
    {
     "name": "stdout",
     "output_type": "stream",
     "text": [
      "La probabilidad de que mención Europea sea No, que es el más probable, es:\n",
      "83.33333333333334\n"
     ]
    }
   ],
   "source": [
    "print(\"La probabilidad de que mención Europea sea \"\"No\"\", que es el más probable, es:\")\n",
    "print((len(df[(df[\"des_mencion_europea\"] == \"No\")])/df.shape[0])*100)"
   ]
  },
  {
   "cell_type": "code",
   "execution_count": 69,
   "metadata": {},
   "outputs": [
    {
     "data": {
      "text/plain": [
       "array(['Departamento'], dtype=object)"
      ]
     },
     "execution_count": 69,
     "metadata": {},
     "output_type": "execute_result"
    }
   ],
   "source": [
    "df[\"des_tipo_unidad_responsable\"].unique()"
   ]
  },
  {
   "cell_type": "code",
   "execution_count": 70,
   "metadata": {},
   "outputs": [
    {
     "data": {
      "text/plain": [
       "array(['Departamento de Ingeniería Informática'], dtype=object)"
      ]
     },
     "execution_count": 70,
     "metadata": {},
     "output_type": "execute_result"
    }
   ],
   "source": [
    "df[\"des_unidad_responsable\"].unique()"
   ]
  },
  {
   "cell_type": "code",
   "execution_count": 71,
   "metadata": {},
   "outputs": [
    {
     "data": {
      "text/plain": [
       "array(['Ciencia de la Computación e Inteligencia Artificial',\n",
       "       'Lenguajes y Sistemas Informáticos'], dtype=object)"
      ]
     },
     "execution_count": 71,
     "metadata": {},
     "output_type": "execute_result"
    }
   ],
   "source": [
    "df[\"des_area_conocimiento\"].unique()"
   ]
  },
  {
   "cell_type": "code",
   "execution_count": 72,
   "metadata": {},
   "outputs": [
    {
     "name": "stdout",
     "output_type": "stream",
     "text": [
      "La probabilidad del año de expedicion de titulo de doctor sea Lenguajes y Sistemas Informáticos es del 100%\n"
     ]
    }
   ],
   "source": [
    "print(\"La probabilidad del año de expedicion de titulo de doctor sea \"\"Lenguajes y Sistemas Informáticos\"\" es del 100%\")"
   ]
  },
  {
   "cell_type": "code",
   "execution_count": 73,
   "metadata": {},
   "outputs": [
    {
     "data": {
      "text/plain": [
       "array([  nan, 1995., 1998., 1997., 2005., 1996., 1990., 1993., 1982.,\n",
       "       1977., 1994., 1999., 1989., 2001.])"
      ]
     },
     "execution_count": 73,
     "metadata": {},
     "output_type": "execute_result"
    }
   ],
   "source": [
    "df[\"anio_incorporacion_ap\"].unique()"
   ]
  },
  {
   "cell_type": "code",
   "execution_count": 74,
   "metadata": {},
   "outputs": [
    {
     "data": {
      "text/plain": [
       "{nan: 1,\n",
       " 1995.0: 3,\n",
       " nan: 1,\n",
       " nan: 1,\n",
       " 1998.0: 2,\n",
       " nan: 1,\n",
       " nan: 1,\n",
       " nan: 1,\n",
       " 1997.0: 3,\n",
       " 2005.0: 1,\n",
       " nan: 1,\n",
       " nan: 1,\n",
       " nan: 1,\n",
       " nan: 1,\n",
       " 1996.0: 2,\n",
       " 1990.0: 1,\n",
       " nan: 1,\n",
       " nan: 1,\n",
       " nan: 1,\n",
       " nan: 1,\n",
       " nan: 1,\n",
       " 1993.0: 2,\n",
       " nan: 1,\n",
       " 1982.0: 1,\n",
       " 1977.0: 1,\n",
       " nan: 1,\n",
       " nan: 1,\n",
       " nan: 1,\n",
       " nan: 1,\n",
       " nan: 1,\n",
       " nan: 1,\n",
       " 1994.0: 1,\n",
       " 1999.0: 1,\n",
       " nan: 1,\n",
       " nan: 1,\n",
       " nan: 1,\n",
       " nan: 1,\n",
       " nan: 1,\n",
       " nan: 1,\n",
       " 1989.0: 1,\n",
       " nan: 1,\n",
       " nan: 1,\n",
       " nan: 1,\n",
       " nan: 1,\n",
       " nan: 1,\n",
       " 2001.0: 1,\n",
       " nan: 1}"
      ]
     },
     "execution_count": 74,
     "metadata": {},
     "output_type": "execute_result"
    }
   ],
   "source": [
    "dic = {}\n",
    "for categoria in df[\"anio_incorporacion_ap\"]:\n",
    "    if categoria not in dic:\n",
    "        dic[categoria] = 1\n",
    "    else:\n",
    "        dic[categoria] +=1\n",
    "dic"
   ]
  },
  {
   "cell_type": "code",
   "execution_count": 75,
   "metadata": {},
   "outputs": [
    {
     "name": "stdout",
     "output_type": "stream",
     "text": [
      "La probabilidad de que el año de incorporación sea nan, que es el más probable, es:\n",
      "37.03703703703704\n"
     ]
    }
   ],
   "source": [
    "print(\"La probabilidad de que el año de incorporación sea \"\"nan\"\", que es el más probable, es:\")\n",
    "print((20/df.shape[0])*100)"
   ]
  },
  {
   "cell_type": "code",
   "execution_count": 76,
   "metadata": {},
   "outputs": [
    {
     "data": {
      "text/plain": [
       "array([  nan, 1999., 2012., 2006., 2019., 2001., 2002., 1997., 2020.,\n",
       "       1985., 1986., 2011., 2005., 1998.])"
      ]
     },
     "execution_count": 76,
     "metadata": {},
     "output_type": "execute_result"
    }
   ],
   "source": [
    "df[\"anio_incorpora_cuerpo_docente\"].unique()"
   ]
  },
  {
   "cell_type": "code",
   "execution_count": 77,
   "metadata": {},
   "outputs": [
    {
     "data": {
      "text/plain": [
       "{nan: 1,\n",
       " 1999.0: 2,\n",
       " nan: 1,\n",
       " nan: 1,\n",
       " 2012.0: 1,\n",
       " nan: 1,\n",
       " nan: 1,\n",
       " nan: 1,\n",
       " 2006.0: 2,\n",
       " 2019.0: 1,\n",
       " nan: 1,\n",
       " nan: 1,\n",
       " nan: 1,\n",
       " nan: 1,\n",
       " nan: 1,\n",
       " nan: 1,\n",
       " 2001.0: 3,\n",
       " nan: 1,\n",
       " 2002.0: 2,\n",
       " nan: 1,\n",
       " nan: 1,\n",
       " 1997.0: 2,\n",
       " 2020.0: 2,\n",
       " nan: 1,\n",
       " 1985.0: 1,\n",
       " 1986.0: 1,\n",
       " nan: 1,\n",
       " nan: 1,\n",
       " nan: 1,\n",
       " nan: 1,\n",
       " 2011.0: 1,\n",
       " nan: 1,\n",
       " nan: 1,\n",
       " 2005.0: 1,\n",
       " nan: 1,\n",
       " nan: 1,\n",
       " nan: 1,\n",
       " nan: 1,\n",
       " 1998.0: 1,\n",
       " nan: 1,\n",
       " nan: 1,\n",
       " nan: 1,\n",
       " nan: 1,\n",
       " nan: 1,\n",
       " nan: 1,\n",
       " nan: 1,\n",
       " nan: 1}"
      ]
     },
     "execution_count": 77,
     "metadata": {},
     "output_type": "execute_result"
    }
   ],
   "source": [
    "dic = {}\n",
    "for categoria in df[\"anio_incorpora_cuerpo_docente\"]:\n",
    "    if categoria not in dic:\n",
    "        dic[categoria] = 1\n",
    "    else:\n",
    "        dic[categoria] +=1\n",
    "dic"
   ]
  },
  {
   "cell_type": "code",
   "execution_count": 78,
   "metadata": {},
   "outputs": [
    {
     "data": {
      "text/plain": [
       "array([ 1,  8,  6,  7,  3,  0,  5, 10,  4,  2,  9, 12, 14], dtype=int64)"
      ]
     },
     "execution_count": 78,
     "metadata": {},
     "output_type": "execute_result"
    }
   ],
   "source": [
    "df[\"num_trienios\"].unique()"
   ]
  },
  {
   "cell_type": "code",
   "execution_count": 79,
   "metadata": {},
   "outputs": [
    {
     "name": "stdout",
     "output_type": "stream",
     "text": [
      "El numero de trienios es 5\n"
     ]
    }
   ],
   "source": [
    "print(\"El numero de trienios es 5\")"
   ]
  },
  {
   "cell_type": "code",
   "execution_count": 80,
   "metadata": {},
   "outputs": [
    {
     "data": {
      "text/plain": [
       "array([0, 4, 3, 1, 2, 6, 5], dtype=int64)"
      ]
     },
     "execution_count": 80,
     "metadata": {},
     "output_type": "execute_result"
    }
   ],
   "source": [
    "df[\"num_quinquenios\"].unique()"
   ]
  },
  {
   "cell_type": "code",
   "execution_count": 81,
   "metadata": {},
   "outputs": [
    {
     "name": "stdout",
     "output_type": "stream",
     "text": [
      "el numero de quinquenios es 3\n"
     ]
    }
   ],
   "source": [
    "print(\"el numero de quinquenios es 3\")"
   ]
  },
  {
   "cell_type": "code",
   "execution_count": 82,
   "metadata": {},
   "outputs": [
    {
     "data": {
      "text/plain": [
       "array([0, 2, 4, 3, 1, 5, 6], dtype=int64)"
      ]
     },
     "execution_count": 82,
     "metadata": {},
     "output_type": "execute_result"
    }
   ],
   "source": [
    "df[\"num_sexenios\"].unique()"
   ]
  },
  {
   "cell_type": "code",
   "execution_count": 83,
   "metadata": {},
   "outputs": [
    {
     "data": {
      "text/plain": [
       "array([nan,  1.])"
      ]
     },
     "execution_count": 83,
     "metadata": {},
     "output_type": "execute_result"
    }
   ],
   "source": [
    "df[\"num_tesis\"].unique()"
   ]
  },
  {
   "cell_type": "code",
   "execution_count": 84,
   "metadata": {},
   "outputs": [
    {
     "data": {
      "text/plain": [
       "{nan: 1,\n",
       " nan: 1,\n",
       " nan: 1,\n",
       " nan: 1,\n",
       " nan: 1,\n",
       " nan: 1,\n",
       " nan: 1,\n",
       " nan: 1,\n",
       " nan: 1,\n",
       " nan: 1,\n",
       " nan: 1,\n",
       " 1.0: 2,\n",
       " nan: 1,\n",
       " nan: 1,\n",
       " nan: 1,\n",
       " nan: 1,\n",
       " nan: 1,\n",
       " nan: 1,\n",
       " nan: 1,\n",
       " nan: 1,\n",
       " nan: 1,\n",
       " nan: 1,\n",
       " nan: 1,\n",
       " nan: 1,\n",
       " nan: 1,\n",
       " nan: 1,\n",
       " nan: 1,\n",
       " nan: 1,\n",
       " nan: 1,\n",
       " nan: 1,\n",
       " nan: 1,\n",
       " nan: 1,\n",
       " nan: 1,\n",
       " nan: 1,\n",
       " nan: 1,\n",
       " nan: 1,\n",
       " nan: 1,\n",
       " nan: 1,\n",
       " nan: 1,\n",
       " nan: 1,\n",
       " nan: 1,\n",
       " nan: 1,\n",
       " nan: 1,\n",
       " nan: 1,\n",
       " nan: 1,\n",
       " nan: 1,\n",
       " nan: 1,\n",
       " nan: 1,\n",
       " nan: 1,\n",
       " nan: 1,\n",
       " nan: 1,\n",
       " nan: 1,\n",
       " nan: 1}"
      ]
     },
     "execution_count": 84,
     "metadata": {},
     "output_type": "execute_result"
    }
   ],
   "source": [
    "dic = {}\n",
    "for categoria in df[\"num_tesis\"]:\n",
    "    if categoria not in dic:\n",
    "        dic[categoria] = 1\n",
    "    else:\n",
    "        dic[categoria] +=1\n",
    "dic"
   ]
  },
  {
   "cell_type": "code",
   "execution_count": 85,
   "metadata": {},
   "outputs": [
    {
     "name": "stdout",
     "output_type": "stream",
     "text": [
      "La probabilidad de que el numero de tesis sea nan, que es el más probable, es:\n",
      "96.2962962962963\n"
     ]
    }
   ],
   "source": [
    "print(\"La probabilidad de que el numero de tesis sea \"\"nan\"\", que es el más probable, es:\")\n",
    "print((1 - len(df[(df[\"num_tesis\"] == 1)])/df.shape[0])*100)"
   ]
  },
  {
   "cell_type": "code",
   "execution_count": 86,
   "metadata": {},
   "outputs": [
    {
     "data": {
      "text/plain": [
       "array(['N', 'S'], dtype=object)"
      ]
     },
     "execution_count": 86,
     "metadata": {},
     "output_type": "execute_result"
    }
   ],
   "source": [
    "df[\"ind_investigador_principal\"].unique()"
   ]
  },
  {
   "cell_type": "code",
   "execution_count": 87,
   "metadata": {},
   "outputs": [
    {
     "data": {
      "text/plain": [
       "{'N': 39, 'S': 15}"
      ]
     },
     "execution_count": 87,
     "metadata": {},
     "output_type": "execute_result"
    }
   ],
   "source": [
    "dic = {}\n",
    "for categoria in df[\"ind_investigador_principal\"]:\n",
    "    if categoria not in dic:\n",
    "        dic[categoria] = 1\n",
    "    else:\n",
    "        dic[categoria] +=1\n",
    "dic"
   ]
  },
  {
   "cell_type": "code",
   "execution_count": 88,
   "metadata": {},
   "outputs": [
    {
     "name": "stdout",
     "output_type": "stream",
     "text": [
      "La probabilidad de que el indicador de investigador principal sea N, que es el más probable, es:\n",
      "72.22222222222221\n"
     ]
    }
   ],
   "source": [
    "print(\"La probabilidad de que el indicador de investigador principal sea \"\"N\"\", que es el más probable, es:\")\n",
    "print((len(df[(df[\"ind_investigador_principal\"] == \"N\")])/df.shape[0])*100)"
   ]
  },
  {
   "cell_type": "code",
   "execution_count": null,
   "metadata": {},
   "outputs": [],
   "source": []
  }
 ],
 "metadata": {
  "kernelspec": {
   "display_name": "Python 3.9.7 ('base')",
   "language": "python",
   "name": "python3"
  },
  "language_info": {
   "codemirror_mode": {
    "name": "ipython",
    "version": 3
   },
   "file_extension": ".py",
   "mimetype": "text/x-python",
   "name": "python",
   "nbconvert_exporter": "python",
   "pygments_lexer": "ipython3",
   "version": "3.9.7 (default, Sep 16 2021, 16:59:28) [MSC v.1916 64 bit (AMD64)]"
  },
  "orig_nbformat": 4,
  "vscode": {
   "interpreter": {
    "hash": "1155a2401009aa02600bd2bbf5c6429fdde741e67e7abb166afdd9b65765e4a0"
   }
  }
 },
 "nbformat": 4,
 "nbformat_minor": 2
}
