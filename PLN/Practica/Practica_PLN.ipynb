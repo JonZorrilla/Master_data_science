{
  "cells": [
    {
      "attachments": {},
      "cell_type": "markdown",
      "metadata": {
        "id": "8b9UW-juPngs"
      },
      "source": [
        "# PROCESAMIENTO DE LENGUAJE NATURAL\n",
        "\n",
        "### Iñigo Gómez Carvajal y Jon Zorrilla Gamboa\n",
        "\n",
        "### Pareja 8\n",
        "\n",
        "---\n",
        "\n"
      ]
    },
    {
      "cell_type": "markdown",
      "metadata": {
        "id": "tNUVSHzFQYDM"
      },
      "source": [
        "### Lab assignments: Aspect opinion extraction"
      ]
    },
    {
      "cell_type": "code",
      "execution_count": 207,
      "metadata": {
        "id": "Ryzd65V4FPQ1"
      },
      "outputs": [],
      "source": [
        "import nltk\n",
        "import pandas as pd\n",
        "import numpy as np\n",
        "import matplotlib.pyplot as plt\n",
        "import json\n",
        "\n",
        "\n",
        "nltk.download('punkt')\n",
        "nltk.download('wordnet')\n",
        "nltk.download(\"omw-1.4\")\n",
        "nltk.download('opinion_lexicon')\n",
        "from nltk.parse.corenlp import CoreNLPDependencyParser\n",
        "from nltk.corpus import opinion_lexicon\n",
        "from nltk.corpus import wordnet as wn"
      ]
    },
    {
      "attachments": {},
      "cell_type": "markdown",
      "metadata": {
        "id": "QxhpTRS2Q42s"
      },
      "source": [
        "# Assignment 1: Review datasets\n",
        "\n",
        "## Task 1.1 "
      ]
    },
    {
      "cell_type": "code",
      "execution_count": 3,
      "metadata": {
        "colab": {
          "base_uri": "https://localhost:8080/"
        },
        "id": "BpyY3OGmFif9",
        "outputId": "82faaae4-7e84-4b2c-9f81-5b55c005d577"
      },
      "outputs": [
        {
          "name": "stdout",
          "output_type": "stream",
          "text": [
            "5034 reviews loaded\n",
            "{'reviewerID': 'qLCpuCWCyPb4G2vN-WZz-Q', 'asin': '8ZwO9VuLDWJOXmtAdc7LXQ', 'summary': 'summary', 'reviewText': \"Great hotel in Central Phoenix for a stay-cation, but not necessarily a place to stay out of town and without a car. Not much around the area, and unless you're familiar with downtown, I would rather have a guest stay in Old Town Scottsdale, etc. BUT if you do stay here, it's awesome. Great boutique rooms. Awesome pool that's happening in the summer. A GREAT rooftop patio bar, and a very very busy lobby with Gallo Blanco attached. A great place to stay, but have a car!\", 'overall': 4.0}\n",
            "qLCpuCWCyPb4G2vN-WZz-Q\n"
          ]
        }
      ],
      "source": [
        "# Open hotel reviews and parse the json\n",
        "with open('yelp_hotels.json', encoding='utf-8') as f:\n",
        "  reviews = json.load(f)\n",
        "f.close()\n",
        "numReviews = len(reviews)\n",
        "print(numReviews, 'reviews loaded')\n",
        "print(reviews[0])\n",
        "print(reviews[0].get('reviewerID'))"
      ]
    },
    {
      "attachments": {},
      "cell_type": "markdown",
      "metadata": {
        "id": "4tHYQqFPQ8JE"
      },
      "source": [
        "## Task 1.2"
      ]
    },
    {
      "cell_type": "code",
      "execution_count": 4,
      "metadata": {
        "colab": {
          "base_uri": "https://localhost:8080/"
        },
        "id": "ekW2QxYgGgDm",
        "outputId": "f22fb39c-50a7-4a89-d2b9-f2e08ade2ec7"
      },
      "outputs": [
        {
          "name": "stdout",
          "output_type": "stream",
          "text": [
            "5579 beauty_spas loaded\n",
            "{'reviewerID': 'Xm8HXE1JHqscXe5BKf0GFQ', 'asin': 'WGNIYMeXPyoWav1APUq7jA', 'summary': 'summary', 'reviewText': \"Good tattoo shop. Clean space, multiple artists to choose from and books of their work are available for you to look though and decide who's style most mirrors what you're looking for. I chose Jet to do a cover-up for me and he worked with me on the design and our ideas and communication flowed very well. He's a very personable guy, is friendly and keeps the conversation going while he's working on you, and he doesn't dick around (read: He starts to work and continues until the job is done). He's very professional and informative. Good customer service combines with talent at the craft.\", 'overall': 4.0}\n",
            "Xm8HXE1JHqscXe5BKf0GFQ\n"
          ]
        }
      ],
      "source": [
        "# Open beauty spas reviews and parse the json with\n",
        "# minor tweaks to fit the format\n",
        "beauty_spas = []\n",
        "with open('yelp_beauty_spas.json', encoding='utf-8') as f:\n",
        "  lines = f.readlines()[1:-1]\n",
        "  for line in lines:\n",
        "    stripped = line.rstrip().rstrip(\",\")\n",
        "    aux = json.loads(stripped)\n",
        "    beauty_spas.append(aux)\n",
        "f.close()\n",
        "numReviews = len(beauty_spas)\n",
        "print(numReviews, 'beauty_spas loaded')\n",
        "print(beauty_spas[0])\n",
        "print(beauty_spas[0].get('reviewerID'))"
      ]
    },
    {
      "cell_type": "code",
      "execution_count": 5,
      "metadata": {
        "colab": {
          "base_uri": "https://localhost:8080/"
        },
        "id": "7QKtDYJ_HQ54",
        "outputId": "c96a17dd-84d8-4be2-bc9c-6a4a993522d2"
      },
      "outputs": [
        {
          "name": "stdout",
          "output_type": "stream",
          "text": [
            "158430 restaurants loaded\n",
            "{'reviewerID': 'rLtl8ZkDX5vH5nAx9C3q5Q', 'asin': '9yKzy9PApeiPPOUJEtnvkg', 'summary': 'summary', 'reviewText': 'My wife took me here on my birthday for breakfast and it was excellent. The weather was perfect which made sitting outside overlooking their grounds an absolute pleasure. Our waitress was excellent and our food arrived quickly on the semi-busy Saturday morning. It looked like the place fills up pretty quickly so the earlier you get here the better.Do yourself a favor and get their Bloody Mary. It was phenomenal and simply the best I\\'ve ever had. I\\'m pretty sure they only use ingredients from their garden and blend them fresh when you order it. It was amazing.While EVERYTHING on the menu looks excellent, I had the white truffle scrambled eggs vegetable skillet and it was tasty and delicious. It came with 2 pieces of their griddled bread with was amazing and it absolutely made the meal complete. It was the best \"toast\" I\\'ve ever had.Anyway, I can\\'t wait to go back!', 'overall': 5.0}\n",
            "rLtl8ZkDX5vH5nAx9C3q5Q\n"
          ]
        }
      ],
      "source": [
        "restaurants = []\n",
        "with open('yelp_restaurants.json', encoding='utf-8') as f:\n",
        "  lines = f.readlines()[1:-1]\n",
        "  for line in lines:\n",
        "    stripped = line.rstrip().rstrip(\",\")\n",
        "    aux = json.loads(stripped)\n",
        "    restaurants.append(aux)\n",
        "f.close()\n",
        "numReviews = len(restaurants)\n",
        "print(numReviews, 'restaurants loaded')\n",
        "print(restaurants[0])\n",
        "print(restaurants[0].get('reviewerID'))"
      ]
    },
    {
      "attachments": {},
      "cell_type": "markdown",
      "metadata": {
        "id": "BJaFGE7jRf_U"
      },
      "source": [
        "# Assignment 2: Aspect vocabularies."
      ]
    },
    {
      "attachments": {},
      "cell_type": "markdown",
      "metadata": {
        "id": "lJnApYKLRwm0"
      },
      "source": [
        "## Task 2.1\n",
        "\n",
        "For this section, we will explore the dataset containing relevant aspects for hotels and related terms"
      ]
    },
    {
      "cell_type": "code",
      "execution_count": 345,
      "metadata": {
        "colab": {
          "base_uri": "https://localhost:8080/"
        },
        "id": "AVQ9zb3gRvK3",
        "outputId": "492437a8-c635-4b5d-a85c-1fdc7967b4c1"
      },
      "outputs": [
        {
          "name": "stdout",
          "output_type": "stream",
          "text": [
            "amenities amenity\n",
            "amenities amenities\n",
            "amenities services\n",
            "atmosphere atmosphere\n",
            "atmosphere atmospheres\n",
            "atmosphere ambiance\n",
            "atmosphere ambiances\n",
            "atmosphere light\n",
            "atmosphere lighting\n",
            "atmosphere lights\n",
            "atmosphere music\n",
            "bar bar\n",
            "bar bars\n",
            "bar bartender\n",
            "bar bartenders\n",
            "bathrooms bathroom\n",
            "bathrooms bathrooms\n",
            "bathrooms bath\n",
            "bathrooms baths\n",
            "bathrooms bathtub\n",
            "bathrooms bathtubs\n",
            "bathrooms shampoo\n",
            "bathrooms shampoos\n",
            "bathrooms shower\n",
            "bathrooms showers\n",
            "bathrooms towel\n",
            "bathrooms towels\n",
            "bathrooms tub\n",
            "bathrooms tubs\n",
            "bedrooms bedroom\n",
            "bedrooms bedrooms\n",
            "bedrooms bed\n",
            "bedrooms beds\n",
            "bedrooms pillow\n",
            "bedrooms pillows\n",
            "bedrooms sheet\n",
            "bedrooms sheets\n",
            "bedrooms sleep\n",
            "bedrooms suite\n",
            "bedrooms suites\n",
            "booking booking\n",
            "booking book\n",
            "booking reservation\n",
            "booking reservations\n",
            "booking reserve\n",
            "breakfast breakfast\n",
            "breakfast breakfasts\n",
            "breakfast morning\n",
            "breakfast mornings\n",
            "breakfast toast\n",
            "breakfast toasts\n",
            "breakfast moorning meal\n",
            "breakfast moorning menu\n",
            "building building\n",
            "building buildings\n",
            "building architecture\n",
            "building architectures\n",
            "building buildings\n",
            "building decor\n",
            "building decoration\n",
            "building decorations\n",
            "building furniture\n",
            "building furnitures\n",
            "building garden\n",
            "building gardens\n",
            "building hall\n",
            "building halls\n",
            "building lobbies\n",
            "building lobby\n",
            "building lounge\n",
            "building lounges\n",
            "building patio\n",
            "building patios\n",
            "building salon\n",
            "building salons\n",
            "building spot\n",
            "building spots\n",
            "checking checkin\n",
            "checking check-in\n",
            "checking check in\n",
            "checking check ins\n",
            "checking check out\n",
            "checking check outs\n",
            "checking checking\n",
            "checking checkins\n",
            "checking check-ins\n",
            "checking checkout\n",
            "checking check-out\n",
            "checking checkouts\n",
            "checking check-outs\n",
            "checking check\n",
            "checking checks\n",
            "checking registration\n",
            "checking registrations\n",
            "cleanliness cleanliness\n",
            "cleanliness clean\n",
            "cleanliness cleaned\n",
            "cleanliness cleaning\n",
            "cleanliness dirt\n",
            "cleanliness dirty\n",
            "cleanliness smell\n",
            "coffee coffee\n",
            "coffee coffees\n",
            "coffee cafe\n",
            "coffee cafes\n",
            "coffee tea\n",
            "coffee teas\n",
            "cuisine cuisine\n",
            "cuisine cuisines\n",
            "cuisine dishe\n",
            "cuisine dishes\n",
            "cuisine food\n",
            "cuisine foods\n",
            "cuisine meal\n",
            "cuisine meals\n",
            "cuisine menu\n",
            "cuisine menus\n",
            "cuisine plate\n",
            "cuisine plates\n",
            "cuisine buffet\n",
            "cuisine buffets\n",
            "dinner dinner\n",
            "dinner dinners\n",
            "dinner evening meal\n",
            "dinner evening menu\n",
            "dinner night meal\n",
            "dinner night menu\n",
            "drinks drink\n",
            "drinks drinks\n",
            "drinks beer\n",
            "drinks beers\n",
            "drinks wine\n",
            "drinks wines\n",
            "events event\n",
            "events events\n",
            "events activity\n",
            "events activities\n",
            "events party\n",
            "events parties\n",
            "events trip\n",
            "events trips\n",
            "facilities facilities\n",
            "facilities facility\n",
            "facilities equipment\n",
            "gym gym\n",
            "gym gyms\n",
            "internet internet\n",
            "internet wi fi\n",
            "internet wifi\n",
            "internet wi-fi\n",
            "internet wireless\n",
            "location location\n",
            "location locations\n",
            "location beach\n",
            "location beaches\n",
            "location environment\n",
            "location environments\n",
            "location lake\n",
            "location lakes\n",
            "location landscape\n",
            "location landscapes\n",
            "location mountain\n",
            "location mountains\n",
            "location neighborhood\n",
            "location neighborhoods\n",
            "location neighbourhood\n",
            "location neighbourhoods\n",
            "location river\n",
            "location rivers\n",
            "location situation\n",
            "location situations\n",
            "location street\n",
            "location streets\n",
            "location surrounding\n",
            "location surroundings\n",
            "location tree\n",
            "location trees\n",
            "location valley\n",
            "location valleys\n",
            "location view\n",
            "location views\n",
            "lunch lunch\n",
            "lunch lunches\n",
            "lunch afternoon meal\n",
            "lunch afternoon menu\n",
            "lunch noon meal\n",
            "lunch noon menu\n",
            "parking parking\n",
            "parking parkings\n",
            "pool pool\n",
            "pool pools\n",
            "pool swimming\n",
            "pool swimming pool\n",
            "pool swimming pools\n",
            "pool swimmingpool\n",
            "pool swimmingpools\n",
            "price price\n",
            "price prices\n",
            "price priced\n",
            "price pricing\n",
            "price budget\n",
            "price budgets\n",
            "price charge\n",
            "price cost\n",
            "price costs\n",
            "price fee\n",
            "price fees\n",
            "price money\n",
            "restaurant restaurant\n",
            "restaurant restaurants\n",
            "restrooms restroom\n",
            "restrooms restrooms\n",
            "restrooms toilet\n",
            "restrooms toilets\n",
            "service service\n",
            "service serving\n",
            "service servings\n",
            "service attention\n",
            "service attentions\n",
            "service attitude\n",
            "service attitudes\n",
            "service server\n",
            "service servers\n",
            "shopping shopping\n",
            "shopping shop\n",
            "shopping shops\n",
            "shopping store\n",
            "shopping stores\n",
            "shopping boutique\n",
            "shopping boutiques\n",
            "shopping mall\n",
            "shopping malls\n",
            "spa spa\n",
            "spa spas\n",
            "spa sauna\n",
            "spa saunas\n",
            "spa jacuzzi\n",
            "spa jacuzzis\n",
            "staff staff\n",
            "staff worker\n",
            "staff workers\n",
            "staff bellhop\n",
            "staff bellhops\n",
            "staff boss\n",
            "staff bosses\n",
            "staff cashier\n",
            "staff employee\n",
            "staff employees\n",
            "staff hostess\n",
            "staff manager\n",
            "staff managers\n",
            "staff owner\n",
            "staff owners\n",
            "staff patron\n",
            "staff patrons\n",
            "staff receptionist\n",
            "staff receptionists\n",
            "temperature temperature\n",
            "temperature temperatures\n",
            "transportation transport\n",
            "transportation transportation\n",
            "transportation transportations\n",
            "transportation bus\n",
            "transportation buses\n",
            "transportation cap\n",
            "transportation caps\n",
            "transportation car\n",
            "transportation cars\n",
            "transportation metro\n",
            "transportation metros\n",
            "transportation shuttle\n",
            "transportation shuttles\n",
            "transportation subway\n",
            "transportation subways\n",
            "transportation taxi\n",
            "transportation taxis\n",
            "transportation train\n",
            "transportation trains\n",
            "transportation tube\n",
            "transportation tubes\n",
            "transportation vehicle\n",
            "transportation vehicles\n"
          ]
        }
      ],
      "source": [
        "f = open(\"./aspects_hotels.csv\", \"r\")\n",
        "all_tokens = []\n",
        "for l in f:\n",
        "  tokens = l.rstrip('\\n').split(\",\")\n",
        "  all_tokens.append([tokens[0], tokens[1]])\n",
        "  print(tokens[0], tokens[1])"
      ]
    },
    {
      "attachments": {},
      "cell_type": "markdown",
      "metadata": {},
      "source": [
        "As we can see, the first part of the token refers to the aspect, while the second is the aspect term that relates to the aspect. We will generate a dictionary containing the aspect as a key and an array of its terms as the value"
      ]
    },
    {
      "cell_type": "code",
      "execution_count": 346,
      "metadata": {
        "colab": {
          "base_uri": "https://localhost:8080/"
        },
        "id": "tSdLQcjyWT_N",
        "outputId": "fa6767fd-6c93-475e-a0d2-1f8fbd42b3c5"
      },
      "outputs": [],
      "source": [
        "tokens_dict = {}\n",
        "for tokens in all_tokens:\n",
        "  if tokens[0] not in tokens_dict.keys():\n",
        "    tokens_dict[tokens[0]] = [tokens[1]]\n",
        "  else:\n",
        "    tokens_dict[tokens[0]].append(tokens[1])"
      ]
    },
    {
      "cell_type": "code",
      "execution_count": 347,
      "metadata": {},
      "outputs": [
        {
          "name": "stdout",
          "output_type": "stream",
          "text": [
            "{'amenities': ['amenity', 'amenities', 'services'], 'atmosphere': ['atmosphere', 'atmospheres', 'ambiance', 'ambiances', 'light', 'lighting', 'lights', 'music'], 'bar': ['bar', 'bars', 'bartender', 'bartenders'], 'bathrooms': ['bathroom', 'bathrooms', 'bath', 'baths', 'bathtub', 'bathtubs', 'shampoo', 'shampoos', 'shower', 'showers', 'towel', 'towels', 'tub', 'tubs'], 'bedrooms': ['bedroom', 'bedrooms', 'bed', 'beds', 'pillow', 'pillows', 'sheet', 'sheets', 'sleep', 'suite', 'suites'], 'booking': ['booking', 'book', 'reservation', 'reservations', 'reserve'], 'breakfast': ['breakfast', 'breakfasts', 'morning', 'mornings', 'toast', 'toasts', 'moorning meal', 'moorning menu'], 'building': ['building', 'buildings', 'architecture', 'architectures', 'buildings', 'decor', 'decoration', 'decorations', 'furniture', 'furnitures', 'garden', 'gardens', 'hall', 'halls', 'lobbies', 'lobby', 'lounge', 'lounges', 'patio', 'patios', 'salon', 'salons', 'spot', 'spots'], 'checking': ['checkin', 'check-in', 'check in', 'check ins', 'check out', 'check outs', 'checking', 'checkins', 'check-ins', 'checkout', 'check-out', 'checkouts', 'check-outs', 'check', 'checks', 'registration', 'registrations'], 'cleanliness': ['cleanliness', 'clean', 'cleaned', 'cleaning', 'dirt', 'dirty', 'smell'], 'coffee': ['coffee', 'coffees', 'cafe', 'cafes', 'tea', 'teas'], 'cuisine': ['cuisine', 'cuisines', 'dishe', 'dishes', 'food', 'foods', 'meal', 'meals', 'menu', 'menus', 'plate', 'plates', 'buffet', 'buffets'], 'dinner': ['dinner', 'dinners', 'evening meal', 'evening menu', 'night meal', 'night menu'], 'drinks': ['drink', 'drinks', 'beer', 'beers', 'wine', 'wines'], 'events': ['event', 'events', 'activity', 'activities', 'party', 'parties', 'trip', 'trips'], 'facilities': ['facilities', 'facility', 'equipment'], 'gym': ['gym', 'gyms'], 'internet': ['internet', 'wi fi', 'wifi', 'wi-fi', 'wireless'], 'location': ['location', 'locations', 'beach', 'beaches', 'environment', 'environments', 'lake', 'lakes', 'landscape', 'landscapes', 'mountain', 'mountains', 'neighborhood', 'neighborhoods', 'neighbourhood', 'neighbourhoods', 'river', 'rivers', 'situation', 'situations', 'street', 'streets', 'surrounding', 'surroundings', 'tree', 'trees', 'valley', 'valleys', 'view', 'views'], 'lunch': ['lunch', 'lunches', 'afternoon meal', 'afternoon menu', 'noon meal', 'noon menu'], 'parking': ['parking', 'parkings'], 'pool': ['pool', 'pools', 'swimming', 'swimming pool', 'swimming pools', 'swimmingpool', 'swimmingpools'], 'price': ['price', 'prices', 'priced', 'pricing', 'budget', 'budgets', 'charge', 'cost', 'costs', 'fee', 'fees', 'money'], 'restaurant': ['restaurant', 'restaurants'], 'restrooms': ['restroom', 'restrooms', 'toilet', 'toilets'], 'service': ['service', 'serving', 'servings', 'attention', 'attentions', 'attitude', 'attitudes', 'server', 'servers'], 'shopping': ['shopping', 'shop', 'shops', 'store', 'stores', 'boutique', 'boutiques', 'mall', 'malls'], 'spa': ['spa', 'spas', 'sauna', 'saunas', 'jacuzzi', 'jacuzzis'], 'staff': ['staff', 'worker', 'workers', 'bellhop', 'bellhops', 'boss', 'bosses', 'cashier', 'employee', 'employees', 'hostess', 'manager', 'managers', 'owner', 'owners', 'patron', 'patrons', 'receptionist', 'receptionists'], 'temperature': ['temperature', 'temperatures'], 'transportation': ['transport', 'transportation', 'transportations', 'bus', 'buses', 'cap', 'caps', 'car', 'cars', 'metro', 'metros', 'shuttle', 'shuttles', 'subway', 'subways', 'taxi', 'taxis', 'train', 'trains', 'tube', 'tubes', 'vehicle', 'vehicles']}\n"
          ]
        }
      ],
      "source": [
        "print(tokens_dict)"
      ]
    },
    {
      "attachments": {},
      "cell_type": "markdown",
      "metadata": {},
      "source": [
        "## Task 2.2\n",
        "\n",
        "In this task we will add more terms to each aspect by using WordNet's synset, giving us more coverage when trying to retrieve aspects from the reviews. In addition, for the sake of usability and ease of coding in later tasks, we'll invert the structure of the dictionary, meaning the array of values for each key will become a set of keys, with the aspect as the value for these keys."
      ]
    },
    {
      "cell_type": "code",
      "execution_count": 348,
      "metadata": {
        "colab": {
          "base_uri": "https://localhost:8080/"
        },
        "id": "TJIALq1fXhVl",
        "outputId": "78b8623b-2d7f-4e67-9313-6f38fb7aafaa"
      },
      "outputs": [],
      "source": [
        "#For each aspect in the dictionary, find synonyms.\n",
        "for word in tokens_dict.keys():\n",
        "  synsets = wn.synsets(word)\n",
        "  synonyms = []\n",
        "  for s in synsets:\n",
        "    for l in s.lemmas():\n",
        "      synonyms.append(l.name())\n",
        "  for syn in synonyms:\n",
        "    # If the term was not present, append it to the values\n",
        "    if syn not in tokens_dict[word]:\n",
        "      tokens_dict[word].append(syn)\n",
        "\n",
        "# Dictionary inversion\n",
        "tokens_dict_inv = {}\n",
        "\n",
        "for key in tokens_dict.keys():\n",
        "  for value in tokens_dict[key]:\n",
        "    tokens_dict_inv[value] = key\n",
        "\n",
        "tokens_dict = tokens_dict_inv"
      ]
    },
    {
      "cell_type": "code",
      "execution_count": 349,
      "metadata": {},
      "outputs": [
        {
          "name": "stdout",
          "output_type": "stream",
          "text": [
            "[('conveniences', 'amenities'), ('agreeableness', 'amenities'), ('atmosphere', 'atmosphere'), ('atmospheres', 'atmosphere'), ('ambiance', 'atmosphere')]\n"
          ]
        }
      ],
      "source": [
        "print(list(tokens_dict.items())[5:10])"
      ]
    },
    {
      "attachments": {},
      "cell_type": "markdown",
      "metadata": {
        "id": "2ksw8LVzi6Lj"
      },
      "source": [
        "# Assignment 3: Opinion lexicons\n",
        "## Task 3.1\n",
        "\n",
        "Given Liu's opinion lexicon, we will load the words in a dictionary, in which positive words will have a value of 1, and negative words a value of -1"
      ]
    },
    {
      "cell_type": "code",
      "execution_count": 333,
      "metadata": {
        "colab": {
          "base_uri": "https://localhost:8080/"
        },
        "id": "os2_hX9Ei9yT",
        "outputId": "959b45fa-7e7b-4541-c4dc-54a8ed1c0547"
      },
      "outputs": [
        {
          "data": {
            "text/plain": [
              "[('2-faced', -1),\n",
              " ('2-faces', -1),\n",
              " ('abnormal', -1),\n",
              " ('abolish', -1),\n",
              " ('abominable', -1)]"
            ]
          },
          "execution_count": 333,
          "metadata": {},
          "output_type": "execute_result"
        }
      ],
      "source": [
        "negativeWords = opinion_lexicon.negative()\n",
        "positiveWords = opinion_lexicon.positive()\n",
        "\n",
        "negative = np.array((word, -1) for word in negativeWords)\n",
        "positive = np.array((word, 1) for word in positiveWords)\n",
        "\n",
        "polarities = {}\n",
        "\n",
        "for word in negativeWords:\n",
        "    polarities[word] = -1\n",
        "\n",
        "for word in positiveWords:\n",
        "    polarities[word] = 1\n",
        "\n",
        "list(polarities.items())[0:5]"
      ]
    },
    {
      "attachments": {},
      "cell_type": "markdown",
      "metadata": {},
      "source": [
        "# Task 3.2 & 3.3\n",
        "\n",
        "We defined a function called load_modifiers, which generates a dictionary with the modifier words as keys and the modifier as a value for task 3.2\n",
        "\n",
        "As for part 3.3, we decided that a simple case of polarity inversion in sentences occurs when there's presence of the adverb 'not' in it. So, to model this particular case, we decided to add to the modifiers dictionary the term 'not' with value -1. This will provide us with some (although limited) capacity of finding polarity inversions when we perform the aspect extraction."
      ]
    },
    {
      "cell_type": "code",
      "execution_count": 350,
      "metadata": {},
      "outputs": [],
      "source": [
        "# Generation of modifiers dictionary\n",
        "\n",
        "def load_modifiers(path='modifiers.csv'):\n",
        "    file = pd.read_csv(path, sep=',', header=None, names=['modifier', 'multiplier'])\n",
        "    modifiers = {row[0]: row[1] for _, row in file.iterrows()}\n",
        "    # TASK 3.3 Addition of the 'not' term as a negative modifier\n",
        "    modifiers['not'] = -1\n",
        "    return modifiers"
      ]
    },
    {
      "cell_type": "code",
      "execution_count": 351,
      "metadata": {},
      "outputs": [
        {
          "data": {
            "text/plain": [
              "[('above', 2.0),\n",
              " ('absolutely', 2.0),\n",
              " ('abundantly', 2.0),\n",
              " ('acutely', 2.0),\n",
              " ('amazingly', 2.0)]"
            ]
          },
          "execution_count": 351,
          "metadata": {},
          "output_type": "execute_result"
        }
      ],
      "source": [
        "modifiers = load_modifiers()\n",
        "list(modifiers.items())[0:5]"
      ]
    },
    {
      "attachments": {},
      "cell_type": "markdown",
      "metadata": {
        "id": "d28ukmecl5gl"
      },
      "source": [
        "# Assignment 4: Aspect opinions\n",
        "## Task 4.1, 4.2 & 4.3\n",
        "\n",
        "The logic behind this function is explained in full detail in the attached pdf. Within it, we take into account all the tasks for the assignment at the same time.\n",
        "\n",
        "For the POS tagging we use NLTK's *sent_tokenize()* function. As for the dependency parsing, we decided to use the CoreNLP's *raw_parse()*."
      ]
    },
    {
      "cell_type": "code",
      "execution_count": 352,
      "metadata": {},
      "outputs": [
        {
          "name": "stdout",
          "output_type": "stream",
          "text": [
            "Great hotel in Central Phoenix for a stay-cation, but not necessarily a place to stay out of town and without a car.\n",
            "('hotel', 'NN') amod ('Great', 'JJ')\n",
            "('hotel', 'NN') nmod ('Phoenix', 'NNP')\n",
            "('Phoenix', 'NNP') case ('in', 'IN')\n",
            "('Phoenix', 'NNP') compound ('Central', 'NNP')\n",
            "('hotel', 'NN') nmod ('cation', 'NN')\n",
            "('cation', 'NN') case ('for', 'IN')\n",
            "('cation', 'NN') det ('a', 'DT')\n",
            "('cation', 'NN') compound ('stay', 'NN')\n",
            "('cation', 'NN') punct ('-', 'HYPH')\n",
            "('hotel', 'NN') punct (',', ',')\n",
            "('hotel', 'NN') conj ('place', 'NN')\n",
            "('place', 'NN') cc ('but', 'CC')\n",
            "('place', 'NN') advmod ('not', 'RB')\n",
            "('place', 'NN') advmod ('necessarily', 'RB')\n",
            "('place', 'NN') det ('a', 'DT')\n",
            "('place', 'NN') dep ('stay', 'VB')\n",
            "('stay', 'VB') mark ('to', 'TO')\n",
            "('stay', 'VB') obl ('town', 'NN')\n",
            "('town', 'NN') case ('out', 'IN')\n",
            "('town', 'NN') case ('of', 'IN')\n",
            "('stay', 'VB') conj ('car', 'NN')\n",
            "('car', 'NN') cc ('and', 'CC')\n",
            "('car', 'NN') case ('without', 'IN')\n",
            "('car', 'NN') det ('a', 'DT')\n",
            "('hotel', 'NN') punct ('.', '.')\n",
            "Not much around the area, and unless you're familiar with downtown, I would rather have a guest stay in Old Town Scottsdale, etc.\n",
            "('much', 'RB') advmod ('Not', 'RB')\n",
            "('much', 'RB') nmod ('area', 'NN')\n",
            "('area', 'NN') case ('around', 'IN')\n",
            "('area', 'NN') det ('the', 'DT')\n",
            "('much', 'RB') punct (',', ',')\n",
            "('much', 'RB') conj ('familiar', 'JJ')\n",
            "('familiar', 'JJ') cc ('and', 'CC')\n",
            "('familiar', 'JJ') mark ('unless', 'IN')\n",
            "('familiar', 'JJ') nsubj ('you', 'PRP')\n",
            "('familiar', 'JJ') cop (\"'re\", 'VBP')\n",
            "('familiar', 'JJ') obl ('downtown', 'NN')\n",
            "('downtown', 'NN') case ('with', 'IN')\n",
            "('much', 'RB') punct (',', ',')\n",
            "('much', 'RB') parataxis ('have', 'VB')\n",
            "('have', 'VB') nsubj ('I', 'PRP')\n",
            "('have', 'VB') aux ('would', 'MD')\n",
            "('have', 'VB') advmod ('rather', 'RB')\n",
            "('have', 'VB') obj ('stay', 'NN')\n",
            "('stay', 'NN') det ('a', 'DT')\n",
            "('stay', 'NN') compound ('guest', 'NN')\n",
            "('stay', 'NN') nmod ('Scottsdale', 'NNP')\n",
            "('Scottsdale', 'NNP') case ('in', 'IN')\n",
            "('Scottsdale', 'NNP') compound ('Old', 'NNP')\n",
            "('Scottsdale', 'NNP') compound ('Town', 'NNP')\n",
            "('Scottsdale', 'NNP') punct (',', ',')\n",
            "('Scottsdale', 'NNP') advmod ('etc.', 'FW')\n",
            "('much', 'RB') punct ('.', '.')\n",
            "BUT if you do stay here, it's awesome.\n",
            "('awesome', 'JJ') cc ('BUT', 'CC')\n",
            "('awesome', 'JJ') advcl ('stay', 'VB')\n",
            "('stay', 'VB') mark ('if', 'IN')\n",
            "('stay', 'VB') nsubj ('you', 'PRP')\n",
            "('stay', 'VB') aux ('do', 'VBP')\n",
            "('stay', 'VB') advmod ('here', 'RB')\n",
            "('awesome', 'JJ') punct (',', ',')\n",
            "('awesome', 'JJ') nsubj ('it', 'PRP')\n",
            "('awesome', 'JJ') cop (\"'s\", 'VBZ')\n",
            "('awesome', 'JJ') punct ('.', '.')\n",
            "Great boutique rooms.\n",
            "('rooms', 'NNS') amod ('Great', 'JJ')\n",
            "('rooms', 'NNS') compound ('boutique', 'NN')\n",
            "('rooms', 'NNS') punct ('.', '.')\n",
            "Awesome pool that's happening in the summer.\n",
            "('pool', 'NN') amod ('Awesome', 'JJ')\n",
            "('pool', 'NN') acl:relcl ('happening', 'VBG')\n",
            "('happening', 'VBG') nsubj ('that', 'WDT')\n",
            "('happening', 'VBG') aux (\"'s\", 'VBZ')\n",
            "('happening', 'VBG') obl ('summer', 'NN')\n",
            "('summer', 'NN') case ('in', 'IN')\n",
            "('summer', 'NN') det ('the', 'DT')\n",
            "('pool', 'NN') punct ('.', '.')\n",
            "A GREAT rooftop patio bar, and a very very busy lobby with Gallo Blanco attached.\n",
            "('attached', 'VBN') nsubj ('bar', 'NN')\n",
            "('bar', 'NN') det ('A', 'DT')\n",
            "('bar', 'NN') amod ('GREAT', 'JJ')\n",
            "('bar', 'NN') compound ('rooftop', 'NN')\n",
            "('bar', 'NN') compound ('patio', 'NN')\n",
            "('bar', 'NN') punct (',', ',')\n",
            "('bar', 'NN') conj ('lobby', 'NN')\n",
            "('lobby', 'NN') cc ('and', 'CC')\n",
            "('lobby', 'NN') det ('a', 'DT')\n",
            "('lobby', 'NN') amod ('busy', 'JJ')\n",
            "('busy', 'JJ') advmod ('very', 'RB')\n",
            "('busy', 'JJ') advmod ('very', 'RB')\n",
            "('lobby', 'NN') nmod ('Blanco', 'NNP')\n",
            "('Blanco', 'NNP') case ('with', 'IN')\n",
            "('Blanco', 'NNP') compound ('Gallo', 'NNP')\n",
            "('attached', 'VBN') punct ('.', '.')\n",
            "A great place to stay, but have a car!\n",
            "('stay', 'VB') nsubj ('place', 'NN')\n",
            "('place', 'NN') det ('A', 'DT')\n",
            "('place', 'NN') amod ('great', 'JJ')\n",
            "('stay', 'VB') mark ('to', 'TO')\n",
            "('stay', 'VB') punct (',', ',')\n",
            "('stay', 'VB') conj ('have', 'VBP')\n",
            "('have', 'VBP') cc ('but', 'CC')\n",
            "('have', 'VBP') obj ('car', 'NN')\n",
            "('car', 'NN') det ('a', 'DT')\n",
            "('stay', 'VB') punct ('!', '.')\n"
          ]
        }
      ],
      "source": [
        "dependency_parser = CoreNLPDependencyParser(url='http://localhost:9000')\n",
        "sentences = nltk.sent_tokenize(reviews[0].get(\"reviewText\"))\n",
        "\n",
        "for s in sentences:\n",
        "    print(s)\n",
        "    result, = dependency_parser.raw_parse(s)\n",
        "    for head, relation, dependent in result.triples():\n",
        "        print(head, relation, dependent)"
      ]
    },
    {
      "cell_type": "code",
      "execution_count": 353,
      "metadata": {},
      "outputs": [],
      "source": [
        "def review_aspect_extraction(review, opinion, modifiers, aspect_vocab):\n",
        "\n",
        "    dependency_parser = CoreNLPDependencyParser(url='http://localhost:9000')\n",
        "    results = []\n",
        "    sentences = nltk.sent_tokenize(review)\n",
        "    \n",
        "    for s in sentences:\n",
        "        # Retrieve dependencies and POS from CoreNLP's raw_parse function\n",
        "        result, = dependency_parser.raw_parse(s)\n",
        "        aspect_tuples = []\n",
        "        modifiers_list = []\n",
        "        compound_list = []\n",
        "        conj_list = []\n",
        "        for head, relation, dependent in result.triples():\n",
        "            \n",
        "            if head[1].startswith('NN'):\n",
        "\n",
        "                # Find adjectival modifiers (amod) of nouns to add as a potential aspect tuple\n",
        "                if relation == \"amod\":\n",
        "                    score = opinion.get(dependent[0].lower(), 0)\n",
        "                    aspect_tuples.append((head[0], dependent[0], score))\n",
        "\n",
        "                # Find compound nouns to search for possible aspect terms within them\n",
        "                if relation == \"compound\":\n",
        "                    compound_list.append((head[0], dependent[0]))\n",
        "            \n",
        "            # Find adverbial modifiers (advmod) on the sentence and store the reference, the adverb and the modifier value\n",
        "            elif (head[1].startswith('JJ') or head[1].startswith('NN')) and relation == \"advmod\":\n",
        "                mod = modifiers.get(dependent[0].lower(), 1)\n",
        "                modifiers_list.append((head[0], dependent[0], mod))\n",
        "\n",
        "            # Look for adjectives in succession that refer to the same word and store to create a new tuple later\n",
        "            elif (head[1].startswith('JJ') and dependent[1].startswith('JJ') and relation == \"conj\"):\n",
        "                conj_list.append((head[0], dependent[0]))\n",
        "\n",
        "            # Look for nominal subjects with adjectives to add as a potential aspect tuple\n",
        "            elif (head[1].startswith('JJ') and dependent[1].startswith('NN') and relation == \"nsubj\"):\n",
        "                score = opinion.get(head[0].lower(), 0)\n",
        "                aspect_tuples.append((dependent[0], head[0], score))\n",
        "\n",
        "        # Create aspect tuples for nouns that were part of a compound noun but have\n",
        "        # no direct relation with an adjective\n",
        "        for compound in compound_list:\n",
        "            for aspect_tuple in aspect_tuples:\n",
        "                if compound[0] == aspect_tuple[0]:\n",
        "                    aspect_tuples.append((compound[1], aspect_tuple[1], aspect_tuple[2]))\n",
        "\n",
        "        \n",
        "        # Create aspect tuples for adjectives that were in conjunct with other\n",
        "        # adjectives\n",
        "        for conj in conj_list:\n",
        "            for aspect_tuple in aspect_tuples:\n",
        "                if conj[0] == aspect_tuple[1]:\n",
        "                    score = opinion.get(conj[1].lower(), 0)\n",
        "                    aspect_tuples.append((aspect_tuple[0], conj[1], score))\n",
        "\n",
        "        for aspect_tuple in aspect_tuples:\n",
        "            # If the aspect term is on the aspect terms dictionary, process the polarity\n",
        "            if aspect_tuple[0].lower() in aspect_vocab.keys():\n",
        "                isNegated = \"Non negated\"\n",
        "                tuple_list = list(aspect_tuple)\n",
        "                aux_modifiers = []\n",
        "\n",
        "                # Process the modifiers for the tuple\n",
        "                for modifier in modifiers_list:\n",
        "                    if modifier[0] in (tuple_list[0], tuple_list[1]):\n",
        "                        tuple_list[2] *= modifier[2]\n",
        "                        aux_modifiers.append(modifier[1])\n",
        "                        # If 'not' is found, we mark the inversion in polarity\n",
        "                        if modifier[1].lower() == 'not':\n",
        "                            isNegated=\"Negated\"\n",
        "            \n",
        "                tuple_list.append(aspect_vocab[tuple_list[0].lower()])\n",
        "                \n",
        "                # Store the [aspect, aspect term, opinion word, isNegated, modfiers, polarity] tuple\n",
        "                results.append((aspect_vocab[tuple_list[0].lower()], \n",
        "                                tuple_list[0],\n",
        "                                tuple_list[1],\n",
        "                                isNegated,\n",
        "                                aux_modifiers,\n",
        "                                tuple_list[2]))\n",
        "\n",
        "    return results"
      ]
    },
    {
      "attachments": {},
      "cell_type": "markdown",
      "metadata": {},
      "source": [
        "### Test applying different modifiers and negations"
      ]
    },
    {
      "cell_type": "code",
      "execution_count": 354,
      "metadata": {},
      "outputs": [
        {
          "data": {
            "text/plain": [
              "[('bar', 'bar', 'Great', 'Non negated', [], 1),\n",
              " ('bedrooms', 'bedrooms', 'bad', 'Non negated', ['Incredibly'], -2.0)]"
            ]
          },
          "execution_count": 354,
          "metadata": {},
          "output_type": "execute_result"
        }
      ],
      "source": [
        "# Applying modifiers on different sentences\n",
        "review_aspect_extraction(\"Great bar. Incredibly bad bedrooms\", polarities, modifiers, tokens_dict)"
      ]
    },
    {
      "cell_type": "code",
      "execution_count": 355,
      "metadata": {},
      "outputs": [
        {
          "data": {
            "text/plain": [
              "[('bedrooms', 'bedrooms', 'dirty', 'Non negated', ['Slightly'], -0.5),\n",
              " ('bedrooms', 'bedrooms', 'bad', 'Non negated', ['incredibly'], -2.0)]"
            ]
          },
          "execution_count": 355,
          "metadata": {},
          "output_type": "execute_result"
        }
      ],
      "source": [
        "# Applying modifiers of different value and conjunct adjectives\n",
        "review_aspect_extraction(\"Slightly dirty and incredibly bad bedrooms\", polarities, modifiers, tokens_dict)"
      ]
    },
    {
      "cell_type": "code",
      "execution_count": 356,
      "metadata": {},
      "outputs": [
        {
          "data": {
            "text/plain": [
              "[('cuisine', 'food', 'bad', 'Negated', ['not'], 1)]"
            ]
          },
          "execution_count": 356,
          "metadata": {},
          "output_type": "execute_result"
        }
      ],
      "source": [
        "# Applying polarity inversion\n",
        "review_aspect_extraction(\"The food was not bad at all\", polarities, modifiers, tokens_dict)"
      ]
    },
    {
      "cell_type": "code",
      "execution_count": 357,
      "metadata": {},
      "outputs": [],
      "source": [
        "results = review_aspect_extraction(reviews[40].get(\"reviewText\"), polarities, modifiers, tokens_dict)"
      ]
    },
    {
      "cell_type": "code",
      "execution_count": 358,
      "metadata": {},
      "outputs": [
        {
          "data": {
            "text/html": [
              "<div>\n",
              "<style scoped>\n",
              "    .dataframe tbody tr th:only-of-type {\n",
              "        vertical-align: middle;\n",
              "    }\n",
              "\n",
              "    .dataframe tbody tr th {\n",
              "        vertical-align: top;\n",
              "    }\n",
              "\n",
              "    .dataframe thead th {\n",
              "        text-align: right;\n",
              "    }\n",
              "</style>\n",
              "<table border=\"1\" class=\"dataframe\">\n",
              "  <thead>\n",
              "    <tr style=\"text-align: right;\">\n",
              "      <th></th>\n",
              "      <th>aspect</th>\n",
              "      <th>term</th>\n",
              "      <th>opinion</th>\n",
              "      <th>isNegated</th>\n",
              "      <th>modifiers</th>\n",
              "      <th>polarity</th>\n",
              "    </tr>\n",
              "  </thead>\n",
              "  <tbody>\n",
              "    <tr>\n",
              "      <th>0</th>\n",
              "      <td>bedrooms</td>\n",
              "      <td>pillows</td>\n",
              "      <td>amazing</td>\n",
              "      <td>Non negated</td>\n",
              "      <td>[absolutely]</td>\n",
              "      <td>2.0</td>\n",
              "    </tr>\n",
              "    <tr>\n",
              "      <th>1</th>\n",
              "      <td>bedrooms</td>\n",
              "      <td>pillows</td>\n",
              "      <td>best</td>\n",
              "      <td>Non negated</td>\n",
              "      <td>[]</td>\n",
              "      <td>1.0</td>\n",
              "    </tr>\n",
              "    <tr>\n",
              "      <th>2</th>\n",
              "      <td>restrooms</td>\n",
              "      <td>convenience</td>\n",
              "      <td>amazing</td>\n",
              "      <td>Non negated</td>\n",
              "      <td>[]</td>\n",
              "      <td>1.0</td>\n",
              "    </tr>\n",
              "    <tr>\n",
              "      <th>3</th>\n",
              "      <td>restaurant</td>\n",
              "      <td>restaurants</td>\n",
              "      <td>local</td>\n",
              "      <td>Non negated</td>\n",
              "      <td>[]</td>\n",
              "      <td>0.0</td>\n",
              "    </tr>\n",
              "  </tbody>\n",
              "</table>\n",
              "</div>"
            ],
            "text/plain": [
              "       aspect         term  opinion    isNegated     modifiers  polarity\n",
              "0    bedrooms      pillows  amazing  Non negated  [absolutely]       2.0\n",
              "1    bedrooms      pillows     best  Non negated            []       1.0\n",
              "2   restrooms  convenience  amazing  Non negated            []       1.0\n",
              "3  restaurant  restaurants    local  Non negated            []       0.0"
            ]
          },
          "execution_count": 358,
          "metadata": {},
          "output_type": "execute_result"
        }
      ],
      "source": [
        "# DataFrame structure for next assignment\n",
        "aspects_df = pd.DataFrame(results, columns=['aspect', 'term', 'opinion', 'isNegated', 'modifiers', 'polarity'])\n",
        "aspects_df.head()"
      ]
    },
    {
      "attachments": {},
      "cell_type": "markdown",
      "metadata": {},
      "source": [
        "# Assignment 5\n",
        "## Task 5.1\n",
        "\n",
        "For this task, we decided to process the aspect tuples as a DataFrame, which will make aggregation easier."
      ]
    },
    {
      "cell_type": "code",
      "execution_count": 359,
      "metadata": {},
      "outputs": [],
      "source": [
        "def group_aspects(aspect_opinion):\n",
        "    # Returns the aspects mentioned with the sum of polarity of the DataFrame\n",
        "    aspect_opinion_sum = aspect_opinion[['aspect', 'polarity']].groupby('aspect').sum().reset_index()\n",
        "    return aspect_opinion_sum"
      ]
    },
    {
      "cell_type": "code",
      "execution_count": 360,
      "metadata": {},
      "outputs": [],
      "source": [
        "def plot_aspect_opinion(aspect_opinion):\n",
        "\n",
        "    # Transform the array of tuples as a DataFrame and aggregate all polarities grouped by aspect\n",
        "    aspect_df = pd.DataFrame(aspect_opinion, columns=['aspect', 'term', 'opinion', 'isNegated', 'modifiers', 'polarity'])\n",
        "    aspect_opinion_sum = group_aspects(aspect_df)\n",
        "\n",
        "    #Plot the values\n",
        "    plt.bar(x=aspect_opinion_sum['aspect'],\n",
        "        height=aspect_opinion_sum['polarity'],\n",
        "        color = plt.cm.rainbow(np.linspace(0, 1, len(aspect_opinion_sum))))"
      ]
    },
    {
      "cell_type": "code",
      "execution_count": 361,
      "metadata": {},
      "outputs": [
        {
          "name": "stdout",
          "output_type": "stream",
          "text": [
            "This is my favorite spa in the world! Hopefully, I'll make it to others...but if I could only get to the Camelback Inn, I'd be in heaven. Here's the rundown of how I enjoy the place: Early morning appointment for massage - Rose does fantastic hot stone - I like her the best. Then I shower and get into the eucalyptus steam room. Next I head out to the pool and savor the view of Camelback Mountain and the amazing desert landscaping they've procured. I drink some water and as I lounge there, I order a small, healthy and very tasty meal (usually breakfast). I swim a little, lounge a lot - regardless of the time of year. If I have planned it, I then head back into the showers and clean up for my next treatment. I spend hours there and if I feel like I might be pressed for time, I reschedule.\n"
          ]
        },
        {
          "data": {
            "image/png": "[encoded data removed]",
            "text/plain": [
              "<Figure size 640x480 with 1 Axes>"
            ]
          },
          "metadata": {},
          "output_type": "display_data"
        }
      ],
      "source": [
        "aspect_opinion = review_aspect_extraction(reviews[3].get(\"reviewText\"), polarities, modifiers, tokens_dict)\n",
        "print(reviews[3].get(\"reviewText\"))\n",
        "plot_aspect_opinion(aspect_opinion)"
      ]
    },
    {
      "attachments": {},
      "cell_type": "markdown",
      "metadata": {},
      "source": [
        "# TASK 5.2\n",
        "\n",
        "The idea behind the first part of this task is the same as in 5.1, with the only difference being the DataFrame is being made with all the tuples from all the reviews of the hotel.\n",
        "\n",
        "As for the positive/negative opinions, we process polarities as negative or positive, aggregate them by aspect, and plot both values on the screen"
      ]
    },
    {
      "cell_type": "code",
      "execution_count": 362,
      "metadata": {},
      "outputs": [],
      "source": [
        "def plot_hotel_reviews(hotel_reviews):\n",
        "\n",
        "    aspect_opinions = []\n",
        "\n",
        "    fig, ax = plt.subplots(1, 1, figsize = (20,10))\n",
        "\n",
        "    # Generate aspect tuples for all the reviews and perform an aggregation, similar to 5.1\n",
        "    for review in hotel_reviews:\n",
        "        aspect_opinions.extend(review_aspect_extraction(review[\"reviewText\"], polarities, modifiers, tokens_dict))\n",
        "\n",
        "    print(f\"Results from {len(hotel_reviews)} reviews\")\n",
        "\n",
        "    # Call plot_aspect_opinion to plot the final results\n",
        "    plot_aspect_opinion(aspect_opinions)\n",
        "    plt.title(\"Aspect rating for hotel given according to user reviews\")\n",
        "\n",
        "    for tick in ax.get_xticklabels():\n",
        "        tick.set_rotation(70)\n"
      ]
    },
    {
      "attachments": {},
      "cell_type": "markdown",
      "metadata": {},
      "source": [
        "### Test with the reviews referring to the hotel mentioned in 3rd review"
      ]
    },
    {
      "cell_type": "code",
      "execution_count": 363,
      "metadata": {},
      "outputs": [
        {
          "name": "stdout",
          "output_type": "stream",
          "text": [
            "Results from 102 reviews\n"
          ]
        },
        {
          "data": {
            "image/png": "[encoded data removed]",
            "text/plain": [
              "<Figure size 2000x1000 with 1 Axes>"
            ]
          },
          "metadata": {},
          "output_type": "display_data"
        }
      ],
      "source": [
        "hotel_asin = reviews[2]['asin']\n",
        "hotel_reviews = [ x for x in reviews if x['asin'] == hotel_asin ]\n",
        "\n",
        "plot_hotel_reviews(hotel_reviews)"
      ]
    },
    {
      "cell_type": "code",
      "execution_count": 364,
      "metadata": {},
      "outputs": [
        {
          "data": {
            "image/png": "[encoded data removed]",
            "text/plain": [
              "<Figure size 2000x1000 with 1 Axes>"
            ]
          },
          "metadata": {},
          "output_type": "display_data"
        }
      ],
      "source": [
        "def positive_negative_counter(hotel_reviews):\n",
        "\n",
        "    aspect_opinions = []\n",
        "\n",
        "    # Generate aspect tuples for all the reviews and perform an aggregation, similar to 5.1\n",
        "    for review in hotel_reviews:\n",
        "        aspect_opinions.extend(review_aspect_extraction(review[\"reviewText\"], polarities, modifiers, tokens_dict))\n",
        "\n",
        "    aspect_df = pd.DataFrame(aspect_opinions, columns=['aspect', 'term', 'opinion', 'isNegated', 'modifiers', 'polarity'])\n",
        "\n",
        "    # Generate 2 new columns, positiveOpinion, which will have a value of 1 if polarity is greater than 0\n",
        "    # and negativeOpinion, which will have a value of 1 if polarity is less than 0\n",
        "    aspect_df['positiveOpinion'] = np.where(aspect_df['polarity'] > 0, 1, 0)\n",
        "    aspect_df['negativeOpinion'] = np.where(aspect_df['polarity'] < 0, 1, 0)\n",
        "\n",
        "    aspect_df = aspect_df[['aspect', 'positiveOpinion', 'negativeOpinion']].groupby('aspect').sum().reset_index()\n",
        "\n",
        "    return aspect_df\n",
        "\n",
        "def plot_positive_negative_opinion(hotel_reviews):\n",
        "\n",
        "    fig, ax = plt.subplots(1, 1, figsize = (20,10))\n",
        "    \n",
        "    df = positive_negative_counter(hotel_reviews)\n",
        "    \n",
        "    X_axis = np.arange(len(df))\n",
        "\n",
        "    plt.bar(X_axis - 0.2, df['positiveOpinion'], 0.4, label = 'Positive', color=\"green\")\n",
        "    plt.bar(X_axis + 0.2, df['negativeOpinion'], 0.4, label = 'Negative', color=\"red\")\n",
        "    plt.xticks(X_axis, df['aspect'])\n",
        "    plt.legend()\n",
        "    plt.title(\"Summary of positive and negative opinions\")\n",
        "\n",
        "    for tick in ax.get_xticklabels():\n",
        "        tick.set_rotation(70)\n",
        "\n",
        "plot_positive_negative_opinion(hotel_reviews)"
      ]
    }
  ],
  "metadata": {
    "colab": {
      "provenance": []
    },
    "kernelspec": {
      "display_name": "Python 3",
      "name": "python3"
    },
    "language_info": {
      "codemirror_mode": {
        "name": "ipython",
        "version": 3
      },
      "file_extension": ".py",
      "mimetype": "text/x-python",
      "name": "python",
      "nbconvert_exporter": "python",
      "pygments_lexer": "ipython3",
      "version": "3.10.9"
    }
  },
  "nbformat": 4,
  "nbformat_minor": 0
}
