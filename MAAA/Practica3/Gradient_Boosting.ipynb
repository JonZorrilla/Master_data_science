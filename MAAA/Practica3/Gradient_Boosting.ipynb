{
 "cells": [
  {
   "attachments": {},
   "cell_type": "markdown",
   "id": "73c89def",
   "metadata": {},
   "source": [
    "# PRÁCTICA 3.2: Algoritmo bagging y gradient boosting\n",
    "\n",
    "### Rubén Martínez Gijón y Jon Zorrilla Gamboa"
   ]
  },
  {
   "cell_type": "code",
   "execution_count": 1,
   "id": "9684f08b",
   "metadata": {},
   "outputs": [],
   "source": [
    "%matplotlib inline\n",
    "import numpy as np\n",
    "import scipy as sp\n",
    "import pandas as pd\n",
    "from scipy import stats\n",
    "import matplotlib.pyplot as plt\n",
    "from sklearn.model_selection import train_test_split\n",
    "from sklearn.ensemble import GradientBoostingClassifier\n",
    "import time"
   ]
  },
  {
   "cell_type": "markdown",
   "id": "87d924d8",
   "metadata": {},
   "source": [
    "#### Funciones auxiliares\n",
    "Definición de conjuntos de datos en 2D para el análisis visual de las fronteras de decisión y cómo cambian con algunos parámetros. Funciones (inspiradas en sklearn) que usaremos a lo largo del notebook. \n",
    "\n",
    "La primera, *createDataSet*, es para crear los problemas, siempre de dos clases y en dos dimensiones. Sus argumentos son:\n",
    "\n",
    "- *n*, número de patrones en el problema\n",
    "\n",
    "- *model*, tipo de modelo para la frontera que separa las clases, puede ser 'linear', 'square' o 'sine'\n",
    "\n",
    "- *ymargin*, margen de separación entre las dos clases, cuanto mayor es *ymargin* más separadas están las clases, valores negativos implican solape entre las clases\n",
    "\n",
    "- *noise*, introduce un ruido gausiano a la x e y\n",
    "\n",
    "- *output_boundary*, Si vale True la función devuelve la frontera de decisión"
   ]
  },
  {
   "cell_type": "code",
   "execution_count": 2,
   "id": "1b413eec",
   "metadata": {},
   "outputs": [],
   "source": [
    "def createDataSet(n,model,ymargin,noise=None,output_boundary=False):\n",
    "    x = np.random.rand(n,1)*2.0*np.pi\n",
    "    xbnd = np.linspace(0,2.0*np.pi,100)\n",
    "\n",
    "    if model == 'sine':\n",
    "        y = (np.random.rand(n,1) - 0.5)*2.2\n",
    "        c = y > np.sin(x)\n",
    "        ybnd = np.sin(xbnd)\n",
    "    elif model == 'linear':\n",
    "        y = np.random.rand(n,1)*2.0*np.pi\n",
    "        c = y > x\n",
    "        ybnd = xbnd\n",
    "    elif model == 'square':\n",
    "        y = np.random.rand(n,1)*4.0*np.pi*np.pi\n",
    "        c = y > x*x\n",
    "        ybnd = xbnd*xbnd\n",
    "    else:\n",
    "        y = np.random.rand(n,1)*2.0*np.pi\n",
    "        c = y > x\n",
    "        ybnd = xbnd\n",
    "    \n",
    "    y[c == True] = y[c == True] + ymargin\n",
    "    y[c == False] = y[c == False] - ymargin\n",
    "    \n",
    "    if noise is not None:\n",
    "        y = y + noise * np.random.randn(n,1)\n",
    "        x = x + noise * np.random.randn(n,1)\n",
    "\n",
    "    if output_boundary == True:\n",
    "        return x, y, (c*1).ravel(), xbnd, ybnd\n",
    "    else:\n",
    "        return x, y, (c*1).ravel()"
   ]
  },
  {
   "cell_type": "markdown",
   "id": "217fc266",
   "metadata": {},
   "source": [
    "La función *plotModel* la usaremos para dibujar el resultado de un clasificador sobre el conjunto de datos. Sus argumentos son:\n",
    "\n",
    "- *x*, coordenada x de los puntos\n",
    "\n",
    "- *y*, coordenada y de los puntos\n",
    "\n",
    "- *c*, clase de los puntos, si se pasa None, entonces considera que x e y son la frontera real de decisión y la muestra con plot\n",
    "\n",
    "- *clf*, el clasificador\n",
    "\n",
    "- *title*, título para el gráfico"
   ]
  },
  {
   "cell_type": "code",
   "execution_count": 3,
   "id": "0e86acfc",
   "metadata": {},
   "outputs": [],
   "source": [
    "def plotModel(x,y,clase,clf,title=\"\"):\n",
    "    from matplotlib.colors import ListedColormap\n",
    "    \n",
    "    x_min, x_max = x.min() - .2, x.max() + .2\n",
    "    y_min, y_max = y.min() - .2, y.max() + .2\n",
    "    hx = (x_max - x_min)/100.\n",
    "    hy = (y_max - y_min)/100.\n",
    "    xx, yy = np.meshgrid(np.arange(x_min, x_max, hx), np.arange(y_min, y_max, hy))\n",
    "\n",
    "    if hasattr(clf, \"decision_function\"):\n",
    "        z = clf.decision_function(np.c_[xx.ravel(), yy.ravel()])\n",
    "    elif hasattr(clf, \"predict_proba\"):\n",
    "        z = clf.predict_proba(np.c_[xx.ravel(), yy.ravel()])[:, 1]\n",
    "    else:\n",
    "        z = clf.predict(np.c_[xx.ravel(), yy.ravel()])\n",
    "\n",
    "    z = z.reshape(xx.shape)\n",
    "    cm = plt.cm.RdBu\n",
    "    cm_bright = ListedColormap(['#FF0000', '#0000FF'])\n",
    "    \n",
    "    plt.contourf(xx, yy, z, cmap=cm, alpha=.8)\n",
    "    plt.contour(xx, yy, z, [0.5], linewidths=[2], colors=['k'])\n",
    "\n",
    "    if clase is not None:\n",
    "        plt.scatter(x[clase==0], y[clase==0], c='#FF0000')\n",
    "        plt.scatter(x[clase==1], y[clase==1], c='#0000FF')\n",
    "    else:\n",
    "        plt.plot(x,y,'g', linewidth=3)\n",
    "        \n",
    "    plt.gca().set_xlim(xx.min(), xx.max())\n",
    "    plt.gca().set_ylim(yy.min(), yy.max())\n",
    "    plt.grid(True)\n",
    "    plt.xlabel(\"X\")\n",
    "    plt.ylabel(\"Y\")\n",
    "    plt.title(title)"
   ]
  },
  {
   "cell_type": "markdown",
   "id": "33a70c17",
   "metadata": {},
   "source": [
    "La función, *plotData*, la usaremos para dibujar los datos. Sus argumentos son:\n",
    "\n",
    "- *x*, coordenada x de los puntos\n",
    "\n",
    "- *y*, coordenada y de los puntos\n",
    "\n",
    "- *c*, clase de los puntos\n",
    "\n",
    "- *style0*, estilo con el que pintamos los puntos de la clase 0\n",
    "\n",
    "- *style1*, estilo con el que pintamos los puntos de la clase 1\n",
    "\n",
    "- *title*, título para el gráfico"
   ]
  },
  {
   "cell_type": "code",
   "execution_count": 4,
   "id": "2458c2d7",
   "metadata": {},
   "outputs": [],
   "source": [
    "def plotData(x,y,c,style0,style1,title=''):\n",
    "    plt.scatter(x[c==0],y[c==0],**style0)\n",
    "    plt.scatter(x[c==1],y[c==1],**style1)\n",
    "    plt.grid(True)\n",
    "    plt.axis([x.min()-0.2, x.max()+0.2, y.min()-0.2, y.max()+0.2])\n",
    "    plt.xlabel(\"X\")\n",
    "    plt.ylabel(\"Y\")\n",
    "    plt.title(title)"
   ]
  },
  {
   "cell_type": "code",
   "execution_count": 5,
   "id": "af1a8b5d",
   "metadata": {},
   "outputs": [
    {
     "data": {
      "image/png": "[encoded data removed]",
      "text/plain": [
       "<Figure size 432x288 with 1 Axes>"
      ]
     },
     "metadata": {
      "needs_background": "light"
     },
     "output_type": "display_data"
    }
   ],
   "source": [
    "# Problem data:\n",
    "np.random.seed(11)\n",
    "n = 300\n",
    "model = 'sine'\n",
    "ymargin = 0.\n",
    "noise = 0.3             # <========= Modifica este valor 0 ó 0.3, (antes responde a las cuestiones de arriba)\n",
    "\n",
    "x1, x2, ytrain, xbnd, ybnd = createDataSet(n, model, ymargin, noise, True)\n",
    "Xtrain = np.concatenate((x1, x2), axis = 1)\n",
    "\n",
    "x1test, x2test, ytest      = createDataSet(n*10, model, ymargin, noise)\n",
    "Xtest = np.concatenate((x1test, x2test), axis = 1)\n",
    "\n",
    "plotData(x1,x2,ytrain,{'c':'#FF0000'},{'c':'#0000FF'})\n"
   ]
  },
  {
   "attachments": {},
   "cell_type": "markdown",
   "id": "7a284e71",
   "metadata": {},
   "source": [
    "### Parte 1: Algoritmo Bagging"
   ]
  },
  {
   "cell_type": "code",
   "execution_count": 6,
   "id": "e00a4433",
   "metadata": {},
   "outputs": [
    {
     "data": {
      "image/png": "[encoded data removed]",
      "text/plain": [
       "<Figure size 432x288 with 1 Axes>"
      ]
     },
     "metadata": {
      "needs_background": "light"
     },
     "output_type": "display_data"
    }
   ],
   "source": [
    "from sklearn.tree import DecisionTreeClassifier\n",
    "import scipy as sp\n",
    "\n",
    "class BaggingCasero:\n",
    "    def __init__(self, n_estimators=101):\n",
    "        self.n_estimators = n_estimators\n",
    "        self._estimators = []\n",
    "    \n",
    "    def fit(self,X,y):\n",
    "        N = X.shape[0]\n",
    "        \n",
    "        for i in range(self.n_estimators):\n",
    "            \"\"\"\n",
    "              Rellenar esta parte para que cree un árbol usando\n",
    "              una muestra bootstrap de los datos\n",
    "            \"\"\"\n",
    "            n_sample = np.random.randint(0, N, N)\n",
    "            X_train = X[n_sample]\n",
    "            y_train = y[n_sample]\n",
    "            tree = DecisionTreeClassifier()\n",
    "            tree.fit(X_train, y_train)\n",
    "            \n",
    "            self._estimators.append(tree)\n",
    "            \n",
    "    def predict(self,X):\n",
    "        votos = np.zeros((X.shape[0],len(self._estimators)))\n",
    "        # Calcula la salida de cada árbol para cada dato\n",
    "        for ie,estimator in enumerate(self._estimators):\n",
    "            votos[:,ie] = estimator.predict(X)\n",
    "            \n",
    "        \"\"\"\n",
    "           Calcula la clase más votada de cada ejemplo, es decir,\n",
    "           la moda\n",
    "        \"\"\"\n",
    "        \n",
    "        return sp.stats.mode(votos, axis = 1).mode.ravel()\n",
    "                    \n",
    "bagging = BaggingCasero()\n",
    "bagging.fit(Xtrain, ytrain)\n",
    "acc = np.sum(bagging.predict(Xtest)==ytest)/len(ytest)\n",
    "plotModel(x1,x2,ytrain,bagging,\"Acc=\"+str(acc))"
   ]
  },
  {
   "attachments": {},
   "cell_type": "markdown",
   "id": "593ea856",
   "metadata": {},
   "source": [
    "### Parte 2: Algoritmo gradient boosting\n",
    "Algoritmo de gradient boosting para implementar. Solo hay que incluir el código en las partes indicadas. Se implementará el algoritmo para regresión y para clasificación"
   ]
  },
  {
   "cell_type": "code",
   "execution_count": 7,
   "id": "076c64c4",
   "metadata": {},
   "outputs": [],
   "source": [
    "from sklearn.tree import DecisionTreeRegressor\n",
    "\n",
    "\"\"\" Solo se va a implementar para regresión y para clasificación \n",
    "    binaria con clases igual a -1 y +1\n",
    "\"\"\"\n",
    "\n",
    "class SquaredErrorLoss: #Regresion\n",
    "    \"\"\" Clase que define elementos para la función cuadrática de perdida \n",
    "        para regresión \"\"\"\n",
    "    \n",
    "    def F0(_, X, y):\n",
    "        \"\"\" Calcula el valor constante que minimiza la salida 'y' \"\"\"\n",
    "        return np.mean(y)\n",
    "\n",
    "    def residuos(_, y, F):\n",
    "        \"\"\" Calcula los residuos para un objetivo 'y' y \n",
    "            una salida del modelo F \"\"\"\n",
    "        return y - F\n",
    "\n",
    "    def paso_newton_hoja(_, y, residuos, valor):\n",
    "        \"\"\" Función para actualizar la salida de una hoja el árbol\n",
    "        \n",
    "           Recibe información sobre los ejemplos de una hoja dada. En concreto\n",
    "           para los ejemplos que caen en una hoja:\n",
    "              * El vector de valores a predecir (y)\n",
    "              * Los pseudo-residuos (residuos) sobre los que se ha\n",
    "                entrenado alarbol regresor ht\n",
    "           Además recine el valor actual de salida de la hoja\n",
    "              \n",
    "            Debe devolver el valor actualizado\n",
    "        \"\"\"\n",
    "        return valor #Los multiplicadores son 1\n",
    "    \n",
    "    def predict(_, y):\n",
    "        return y\n",
    "\n",
    "    def __call__(self, y, F):\n",
    "        \"\"\" Devuelve el valor de la función de pérdida para un objetivo 'y' y \n",
    "            una salida del modelo F \"\"\"\n",
    "        return 0.5 * (y - F) ** 2\n",
    "\n",
    "    \n",
    "class LogLoss: #Clasificacion\n",
    "    \"\"\" Clase que define elementos para la función logística de perdida \n",
    "        para clasificación de dos clases {-1, +1} \"\"\"\n",
    "    \n",
    "    def F0(_, X, y):\n",
    "        \"\"\" Calcula el valor constate que minimiza la salida 'y' \"\"\"\n",
    "        ybar = np.mean(y)\n",
    "        return 0.5 * np.log((1.0 + ybar)/(1.0 - ybar))\n",
    "\n",
    "    def residuos(_, y, F):\n",
    "        \"\"\" Calcula los residuos para un objetivo 'y' y \n",
    "            una salida del modelo F \"\"\"\n",
    "        return 2.0 * y / (1 + np.exp(2.0 * y * F))\n",
    "\n",
    "    def paso_newton_hoja(_, y, residuos, valor):\n",
    "        \"\"\" Función para actualizar la salida de una hoja el árbol\n",
    "        \n",
    "           Recibe información sobre los ejemplos de una hoja dada. En concreto\n",
    "           para los ejemplos que caen en una hoja:\n",
    "              * El vector de valores a predecir (y)\n",
    "              * Los pseudo-residuos (residuos) sobre los que se ha\n",
    "                entrenado alarbol regresor ht\n",
    "           Además recine el valor actual de salida de la hoja\n",
    "              \n",
    "            Debe devolver el valor actualizado\n",
    "        \"\"\"\n",
    "        numerador = np.sum(residuos)\n",
    "        denominador = np.sum((np.abs(residuos)) * (2.0 - np.abs(residuos)))\n",
    "\n",
    "        if np.abs(denominador) < 1e-20:\n",
    "            return 0.0\n",
    "\n",
    "        return numerador / denominador\n",
    "\n",
    "    def predict(self, y):\n",
    "        return 2*((1.0/(1.0 + np.exp(-2 * y))) >= 0.5) - 1\n",
    "    \n",
    "    def __call__(self, y, F):\n",
    "        \"\"\" Devuelve el valor de la función de pérdida para un objetivo 'y' y \n",
    "            una salida del modelo F \"\"\"\n",
    "        return np.log(1 + np.exp(-2.0 * y * F))\n",
    "     \n",
    "class GBCasero:\n",
    "    def __init__(self, n_estimators=101, loss=SquaredErrorLoss(), eta=0.1, depth=3):\n",
    "        self.n_estimators = n_estimators\n",
    "        self._estimators  = []\n",
    "        self.depth        = depth\n",
    "        self.eta          = eta\n",
    "        # La implementación de loss se usará en fit para crear el algoritmo\n",
    "        # GB de forma genérica.\n",
    "        self.loss         = loss\n",
    "    \n",
    "    def fit(self,X,y):\n",
    "        \"\"\"\n",
    "          Inicializa GB \n",
    "        \"\"\"\n",
    "\n",
    "\n",
    "        for i in range(self.n_estimators):\n",
    "            \"\"\"\n",
    "              Rellenar esta parte para implementar GB \n",
    "              Se debe utilizar la función paso_newton de abajo\n",
    "            \"\"\"\n",
    "            tree = DecisionTreeRegressor(max_depth = self.depth)\n",
    "            residuos = self.loss.residuos(y, self.predict(X))\n",
    "            tree.fit(X, residuos)\n",
    "            self.paso_newton_general(tree, X, y, residuos)\n",
    "            self._estimators.append(tree)\n",
    "        \n",
    "            \n",
    "    def predict(self,X):\n",
    "        \"\"\" Combinamos los valores de pesos y hs para obtener la 'salida' o\n",
    "             predicciones en crudo, y que haga:\n",
    "               * Para regresión se devuelve 'salida'\n",
    "               * Para clasificación de 2 clases se calcula la probabilidad\n",
    "                  con una sigmoidal (1 / (1 + np.exp(-2*salida))) y se \n",
    "                  devuelve la clase más probable \n",
    "                  \n",
    "            Nota1: Podéis delegar esto a las funciones de pérdida para evitar \n",
    "                   poner aquí in if\n",
    "            Nota2: Podéis también organizar la clasificacion/regresion al estilo\n",
    "                   sklearn e implementar predict_proba en la clasificación.\n",
    "                \n",
    "        \"\"\"\n",
    "        salida = sum(item.predict(X)*self.eta for item in self._estimators)\n",
    "        return self.loss.predict(salida)\n",
    "\n",
    "    def paso_newton_general(self, tree, X, y, residuos):\n",
    "        \"\"\" Esta función actualiza todas las hojas de salida\n",
    "            del árbol 'tree' utilizado la función paso_newton_hoja\n",
    "            de las clases de funcion de pérdida \"\"\"\n",
    "        TREE_LEAF = -1\n",
    "        tree = tree.tree_\n",
    "        leaf_indices = tree.apply(np.array(X,dtype=np.float32))\n",
    "        for leaf in np.where(tree.children_left == TREE_LEAF)[0]:\n",
    "            ii = leaf_indices==leaf\n",
    "            tree.value[leaf,0,0] = self.loss.paso_newton_hoja(y[ii],\n",
    "                                                              residuos[ii],\n",
    "                                                              tree.value[leaf,0,0])\n"
   ]
  },
  {
   "attachments": {},
   "cell_type": "markdown",
   "id": "dc01ec9d",
   "metadata": {},
   "source": [
    "Probamos este algoritmo con el conjunto de datos anterior."
   ]
  },
  {
   "cell_type": "code",
   "execution_count": 8,
   "id": "976b2e8e",
   "metadata": {},
   "outputs": [
    {
     "data": {
      "image/png": "[encoded data removed]",
      "text/plain": [
       "<Figure size 432x288 with 1 Axes>"
      ]
     },
     "metadata": {
      "needs_background": "light"
     },
     "output_type": "display_data"
    }
   ],
   "source": [
    "from sklearn.preprocessing import LabelBinarizer\n",
    "\n",
    "# Basic example\n",
    "gb = GBCasero(loss=LogLoss())\n",
    "\n",
    "lb     = LabelBinarizer(pos_label = 1, neg_label = -1)\n",
    "ytrain = lb.fit_transform(ytrain).ravel()\n",
    "ytest  = lb.transform(ytest).ravel()\n",
    "\n",
    "gb.fit(Xtrain, ytrain)\n",
    "acc = np.sum(gb.predict(Xtest)==ytest)/len(ytest)\n",
    "plotModel(x1,x2,ytrain,gb,\"Acc=\"+str(acc))"
   ]
  },
  {
   "cell_type": "markdown",
   "id": "5415f2a8",
   "metadata": {},
   "source": [
    "#### Implementación del algoritmo con Magic04"
   ]
  },
  {
   "cell_type": "code",
   "execution_count": 9,
   "id": "e0e6ea6d",
   "metadata": {},
   "outputs": [
    {
     "name": "stdout",
     "output_type": "stream",
     "text": [
      "GBCasero\n",
      "- Accuracy in Magic04= 0.8500262881177708\n",
      "--- 12.745827913284302 seconds ---\n",
      "\n",
      "GradientBoostingClassifier\n",
      "- Accuracy in Magic04 = 0.86198738170347\n",
      "--- 1.1569955348968506 seconds ---\n"
     ]
    }
   ],
   "source": [
    "from sklearn.preprocessing import LabelBinarizer\n",
    "\n",
    "# Magic\n",
    "fP = 'magic04.csv'\n",
    "dfP = pd.read_csv(fP, sep=',')\n",
    "\n",
    "X_tr, X_ts, y_tr, y_ts = train_test_split(dfP.values[:,:-1], dfP.values[:,-1], \n",
    "                                          test_size=0.8, random_state=1)\n",
    "lb   = LabelBinarizer(pos_label = 1, neg_label = -1)\n",
    "y_tr = lb.fit_transform(y_tr).ravel()\n",
    "y_ts = lb.transform(y_ts).ravel()\n",
    "\n",
    "gb = GBCasero(loss=LogLoss())\n",
    "start_time_1 = time.time()\n",
    "gb.fit(X_tr, y_tr)\n",
    "\n",
    "print('GBCasero')\n",
    "print(\"- Accuracy in Magic04=\",np.sum(gb.predict(X_ts)==y_ts)/len(y_ts))\n",
    "print(\"--- %s seconds ---\" % (time.time() - start_time_1))\n",
    "\n",
    "# Gradient boosting de sklearn para comparar la accuracy\n",
    "print('\\nGradientBoostingClassifier')\n",
    "clf = GradientBoostingClassifier(n_estimators=101, learning_rate=0.1,max_depth=3)\n",
    "start_time_2 = time.time()\n",
    "clf.fit(X_tr, y_tr)\n",
    "acc = clf.score(X_ts, y_ts)\n",
    "print(\"- Accuracy in Magic04 =\",acc)\n",
    "print(\"--- %s seconds ---\" % (time.time() - start_time_2))"
   ]
  },
  {
   "attachments": {},
   "cell_type": "markdown",
   "id": "b7f107d5",
   "metadata": {},
   "source": [
    "Tras la anterior implementación, se puede observar como nuestro algortimo casero es bastante competitivo, ya que tiene una precisión del 85.0% muy cercana de la del algoritmo de Sklearn 86.2%. Por otro lado, también podemos observar que el tiempo de ejecución de nuestro algoritmo es bastante superior al tiempo que tarda GradientBoostingClassifier."
   ]
  }
 ],
 "metadata": {
  "kernelspec": {
   "display_name": "base",
   "language": "python",
   "name": "python3"
  },
  "language_info": {
   "codemirror_mode": {
    "name": "ipython",
    "version": 3
   },
   "file_extension": ".py",
   "mimetype": "text/x-python",
   "name": "python",
   "nbconvert_exporter": "python",
   "pygments_lexer": "ipython3",
   "version": "3.9.7"
  },
  "vscode": {
   "interpreter": {
    "hash": "1155a2401009aa02600bd2bbf5c6429fdde741e67e7abb166afdd9b65765e4a0"
   }
  }
 },
 "nbformat": 4,
 "nbformat_minor": 5
}
