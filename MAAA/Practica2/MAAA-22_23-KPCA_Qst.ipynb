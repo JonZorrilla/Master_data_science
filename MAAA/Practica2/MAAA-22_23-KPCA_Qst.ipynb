{
 "cells": [
  {
   "cell_type": "markdown",
   "metadata": {},
   "source": [
    "<div class=\"title\">Practical Assignment: Dimensionality Reduction</div>\n",
    "<div class=\"subtitle\">Métodos Avanzados en Aprendizaje Automático</div>\n",
    "<div class=\"author\">Ángela Fernández Pascual - Universidad Autónoma de Madrid</div>\n",
    "\n",
    "---"
   ]
  },
  {
   "cell_type": "markdown",
   "metadata": {},
   "source": [
    "**Initial Configuration**"
   ]
  },
  {
   "cell_type": "markdown",
   "metadata": {},
   "source": [
    "This cell defines the configuration of Jupyter Notebooks."
   ]
  },
  {
   "cell_type": "code",
   "execution_count": 1,
   "metadata": {},
   "outputs": [
    {
     "data": {
      "text/html": [
       "<head><link rel=\"stylesheet\" href=\"style.css\"></head>\n"
      ],
      "text/plain": [
       "<IPython.core.display.HTML object>"
      ]
     },
     "metadata": {},
     "output_type": "display_data"
    }
   ],
   "source": [
    "%%html\n",
    "<head><link rel=\"stylesheet\" href=\"style.css\"></head>"
   ]
  },
  {
   "cell_type": "code",
   "execution_count": 2,
   "metadata": {},
   "outputs": [],
   "source": [
    "%matplotlib inline\n",
    "%load_ext autoreload\n",
    "%autoreload 2"
   ]
  },
  {
   "cell_type": "markdown",
   "metadata": {},
   "source": [
    "This cell imports the packages to be used (all of them quite standard)."
   ]
  },
  {
   "cell_type": "code",
   "execution_count": 3,
   "metadata": {},
   "outputs": [],
   "source": [
    "import numpy as np\n",
    "\n",
    "import matplotlib\n",
    "import matplotlib.pyplot as plt\n",
    "\n",
    "matplotlib.rc('figure', figsize=(15, 5))\n",
    "seed = 123"
   ]
  },
  {
   "cell_type": "markdown",
   "metadata": {},
   "source": [
    "# Introduction"
   ]
  },
  {
   "cell_type": "markdown",
   "metadata": {},
   "source": [
    "This practical assignment consists in implementing a simplified version of the KernelPCA class of `sklearn`.\n",
    "\n",
    "This class will contain three public methods: `fit()`, `transform()` and `fit_transform()`."
   ]
  },
  {
   "cell_type": "markdown",
   "metadata": {},
   "source": [
    "# Implementation of KPCA"
   ]
  },
  {
   "cell_type": "markdown",
   "metadata": {},
   "source": [
    "## Requirements\n",
    "\n",
    "The objective of this assignment is to complete the class `KPCA` sketched below, which should contain at least the following methods.\n",
    "\n",
    "---\n",
    "```python\n",
    "__init__(self, n_components, kernel, gamma)\n",
    "```\n",
    "* This is the construction method for the class, with the following parameters:\n",
    "    * `n_components`: Reduced dimension.\n",
    "    * `kernel`: `'linear'` or `'rbf'`.\n",
    "    * `gamma`: Kernel parameter $\\gamma$ of the RBF kernel.\n",
    "* This method should only store the parameters in fields of the class, to be used when needed.\n",
    "\n",
    "---\n",
    "```python\n",
    "fit(self, X)\n",
    "```\n",
    "* This is the training method, with the following parameters:\n",
    "    * `X`: Training data matrix $\\mathbf{X}$.\n",
    "* This method should compute the projecting direction, storing the useful information in fields of the class.\n",
    "\n",
    "---\n",
    "```python\n",
    "transform(self, X)\n",
    "```\n",
    "* This is the method that computes the projection, with the following parameters:\n",
    "    * `X`: New data matrix $\\mathbf{X}$.\n",
    "* This method will used the stored information in the class for projecting new points.\n",
    "---\n",
    "```python\n",
    "fit_transform(self, X)\n",
    "```\n",
    "* This method firstly fit the model, and latter apply it over the training data, with the following parameters:\n",
    "    * `X`: Training data matrix $\\mathbf{X}$.\n",
    "* **NOTE**: This method can be implemented just calling the methods `fit` and `transform`; but also it can be computed more efficiently by theoretically computing the projection in this case. If this second approach is chosen, a brief explanation of why the implemented code is working will be required."
   ]
  },
  {
   "cell_type": "markdown",
   "metadata": {},
   "source": [
    "### Some recommendations:\n",
    "\n",
    "* We will not pay attention to the dataset size when solving the eigenvector problem, the examples used will be simple ones. We recommend the use of `eigs` from `scipy` that computes only the first `k` eigenvalues and eigenvectors. It will be necessary to ensure that the eigenvectors are ordered in terms of the largest eigenvalues.\n",
    "* The projection direction should be deterministic, so the eigenvectors finded should be flipped in terms of their sign to obtain always the same result.\n",
    "* Data should be centered inside the method (so the data has zero mean, but the std remains the same), being careful to also center the new data points.\n",
    "* Remember that the projection direction should have norm 1. This means that during the training the computed eigenvectors should be properly normalized and stored once normalized."
   ]
  },
  {
   "cell_type": "markdown",
   "metadata": {},
   "source": [
    "## Implementation"
   ]
  },
  {
   "cell_type": "markdown",
   "metadata": {},
   "source": [
    "<div class=\"qst\">\n",
    "\n",
    "* Complete the `KPCA` class below, satisfying the described requirements.\n",
    "\n",
    "</div>"
   ]
  },
  {
   "cell_type": "code",
   "execution_count": 4,
   "metadata": {},
   "outputs": [],
   "source": [
    "from sklearn.metrics.pairwise import rbf_kernel, linear_kernel\n",
    "from sklearn.preprocessing import KernelCenterer\n",
    "from scipy.sparse.linalg import eigs\n",
    "\n",
    "class KPCA():\n",
    "    \"\"\"\n",
    "        Kernel PCA.\n",
    "    \"\"\"\n",
    "    def __init__(self, n_components, kernel, gamma=None):\n",
    "        # Assignment of the hyper-parameters (complete).\n",
    "        self.n_components = n_components\n",
    "        if kernel == \"rbf\":\n",
    "            self.kernel = lambda x,y: rbf_kernel(x, y, gamma)\n",
    "        elif kernel == \"linear\":\n",
    "            self.kernel = lambda x,y: linear_kernel(x, y)\n",
    "        else:\n",
    "            raise ValueError(\"Kernel must be \"\"linear\"\" or \"\"rbf\"\" \")\n",
    "        self.gamma = gamma\n",
    "\n",
    "\n",
    "    def fit(self, X):\n",
    "        # Computation of the projection direction (complete).\n",
    "        self.X_fit = X\n",
    "\n",
    "        kc = KernelCenterer()\n",
    "        kernel = self.kernel(X,X) #Sin centrar\n",
    "        self.transformer = kc.fit(kernel)\n",
    "        kcentered = self.transformer.transform(kernel)\n",
    "\n",
    "        values, vectors = eigs(kcentered, k = self.n_components)\n",
    "        eigenvalues = values.real\n",
    "        eigenvectors = vectors.real\n",
    "\n",
    "        normalizar = lambda autovector, autovalor: autovector/np.sqrt(autovalor)\n",
    "        v = np.zeros(self.n_components)\n",
    "        for i in range(self.n_components):\n",
    "            v = normalizar(vectors, values)\n",
    "\n",
    "        #Corregimos el signo para que sea determinista\n",
    "        for i in range(self.n_components):\n",
    "            maxval1 = max(eigenvectors[i,:], key=abs)\n",
    "            signo1 = np.sign(maxval1)\n",
    "            eigenvectors[i,:] = eigenvectors[i,:]*signo1\n",
    "            maxval2 = max(v[:,i], key=abs)\n",
    "            signo2 = np.sign(maxval2)\n",
    "            v[:,i] = v[:,i]*signo2\n",
    "\n",
    "        self.eigenvalues = eigenvalues\n",
    "        self.eigenvectors = eigenvectors\n",
    "        self.eigenvectors_norm = v\n",
    "        #Guardamos los vectores propios sin normalizar para la parte extra\n",
    "\n",
    "    def transform(self, X):\n",
    "        # Computation of the projected components (complete).\n",
    "        # ...\n",
    "        kernel = self.kernel(X, self.X_fit) #Sin centrar\n",
    "        kcentered = self.transformer.transform(kernel)\n",
    "        return self.eigenvectors_norm.T @ kcentered.T\n",
    "        \n",
    "    def fit_transform(self, X):\n",
    "        # Computation of the projected components over X just after training with it (complete).\n",
    "        # ...\n",
    "        self.fit(X)\n",
    "        return self.transform(X)\n",
    "\n",
    "    def fit_transform2(self, X):\n",
    "        return self.eigenvectors_norm @ self.eigenvalues"
   ]
  },
  {
   "cell_type": "markdown",
   "metadata": {},
   "source": [
    "En un programa de aprendizaje automático, el método `fit_transform `consta siempre de dos partes, de una parte correspondiente al `fit` y otra correspondiente al `transform`. El `fit_transform`, toma como argumento la matriz de datos de entrenamiento X, llama al método `fit` para calcular los coeficientes necesarios para centrar el kernel a partir del cual halla los autovalores y autovectores necesarios para las proyecciones; luego, llama al método `transform` para calcular las proyecciones de los puntos en un espacio determinado. El método alternativo, en lugar de relizar esto, calcula las proyecciones directamente, para ello, hace el producto de la matriz de autovectores previamente normalizados, con los autovalores. Esto se puede observar con claridad en la diapositiva 36 del tema, donde se indica $V = \\Phi^T \\alpha$. Donde $\\Phi$ hace referencia a los autovectores y $\\alpha$ a los autovalores, ya que, además, estos vienen ordenados en orden descendiente por el módulo del autovalor."
   ]
  },
  {
   "cell_type": "markdown",
   "metadata": {},
   "source": [
    "# Experiments with KPCA"
   ]
  },
  {
   "cell_type": "markdown",
   "metadata": {},
   "source": [
    "## Comparative with *scikit-learn*"
   ]
  },
  {
   "cell_type": "markdown",
   "metadata": {},
   "source": [
    "The following cell generates the *blobs* dataset and depicts it."
   ]
  },
  {
   "cell_type": "code",
   "execution_count": 5,
   "metadata": {},
   "outputs": [
    {
     "data": {
      "image/png": "[encoded data removed]",
      "text/plain": [
       "<Figure size 1080x360 with 1 Axes>"
      ]
     },
     "metadata": {
      "needs_background": "light"
     },
     "output_type": "display_data"
    }
   ],
   "source": [
    "from sklearn.datasets import make_blobs\n",
    "X, y = make_blobs(random_state=seed)\n",
    "X_train = X[:90,:]; y_train=y[:90]\n",
    "X_new = X[90:,:]; y_new=y[90:]\n",
    "\n",
    "plt.scatter(X_train[:,0], X_train[:,1],c=y_train, label='train')\n",
    "plt.scatter(X_new[:,0], X_new[:,1], c=y_new, marker='s', label='new')\n",
    "plt.legend()\n",
    "plt.show()"
   ]
  },
  {
   "cell_type": "markdown",
   "metadata": {},
   "source": [
    "---"
   ]
  },
  {
   "cell_type": "markdown",
   "metadata": {},
   "source": [
    "<div class=\"qst\">\n",
    "\n",
    "* Train and transform a classical PCA model over the training data (`X_train`), using both the implemented `KPCA` class using a linear kernel and the `PCA` class of `sklearn`.\n",
    "* Transform using the previous two models the new data (`X_new`).\n",
    "* Compare that both classes provide the same outputs (in terms of the eigenvectors and the data projections), describing the obtained results.\n",
    "</div>"
   ]
  },
  {
   "cell_type": "code",
   "execution_count": 6,
   "metadata": {},
   "outputs": [
    {
     "name": "stdout",
     "output_type": "stream",
     "text": [
      "Comparación de autovectores\n",
      "Autovectores de nuestro modelo:\n",
      "[[-0.00170185+0.j]\n",
      " [-0.00144365+0.j]\n",
      " [ 0.00315548+0.j]\n",
      " [-0.00089386+0.j]\n",
      " [-0.00149731+0.j]\n",
      " [ 0.00330584+0.j]\n",
      " [-0.00195384+0.j]\n",
      " [-0.00101385+0.j]\n",
      " [-0.00112589+0.j]\n",
      " [-0.00150643+0.j]\n",
      " [ 0.00316604+0.j]\n",
      " [-0.00124488+0.j]\n",
      " [ 0.00412394+0.j]\n",
      " [-0.00245382+0.j]\n",
      " [ 0.00272538+0.j]\n",
      " [ 0.00323974+0.j]\n",
      " [-0.00222184+0.j]\n",
      " [-0.00108122+0.j]\n",
      " [-0.00136759+0.j]\n",
      " [ 0.0025524 +0.j]\n",
      " [-0.00135725+0.j]\n",
      " [-0.00138989+0.j]\n",
      " [-0.0009797 +0.j]\n",
      " [ 0.00240797+0.j]\n",
      " [ 0.00310645+0.j]\n",
      " [ 0.00323024+0.j]\n",
      " [ 0.0028349 +0.j]\n",
      " [-0.00126455+0.j]\n",
      " [ 0.00339847+0.j]\n",
      " [-0.00121293+0.j]\n",
      " [-0.00204988+0.j]\n",
      " [-0.00226901+0.j]\n",
      " [-0.00157906+0.j]\n",
      " [-0.00179196+0.j]\n",
      " [-0.00203722+0.j]\n",
      " [ 0.00329657+0.j]\n",
      " [ 0.00310401+0.j]\n",
      " [-0.00159641+0.j]\n",
      " [-0.00124917+0.j]\n",
      " [-0.00213565+0.j]\n",
      " [ 0.00264391+0.j]\n",
      " [ 0.00227101+0.j]\n",
      " [ 0.00270032+0.j]\n",
      " [-0.00115289+0.j]\n",
      " [-0.00123387+0.j]\n",
      " [-0.00141198+0.j]\n",
      " [-0.00198297+0.j]\n",
      " [ 0.00249343+0.j]\n",
      " [-0.00164926+0.j]\n",
      " [ 0.00303186+0.j]\n",
      " [ 0.00321436+0.j]\n",
      " [ 0.00287044+0.j]\n",
      " [ 0.00347081+0.j]\n",
      " [-0.00196091+0.j]\n",
      " [ 0.00241332+0.j]\n",
      " [ 0.00317956+0.j]\n",
      " [-0.00103468+0.j]\n",
      " [ 0.00284394+0.j]\n",
      " [-0.00141369+0.j]\n",
      " [-0.00121385+0.j]\n",
      " [-0.00196446+0.j]\n",
      " [-0.00167622+0.j]\n",
      " [-0.0007027 +0.j]\n",
      " [ 0.00195203+0.j]\n",
      " [-0.00143732+0.j]\n",
      " [-0.00213749+0.j]\n",
      " [-0.00251145+0.j]\n",
      " [ 0.003449  +0.j]\n",
      " [-0.00175177+0.j]\n",
      " [-0.00172119+0.j]\n",
      " [-0.00191706+0.j]\n",
      " [-0.002272  +0.j]\n",
      " [-0.00120852+0.j]\n",
      " [ 0.00361628+0.j]\n",
      " [-0.00116522+0.j]\n",
      " [ 0.00280072+0.j]\n",
      " [-0.00165886+0.j]\n",
      " [-0.00125841+0.j]\n",
      " [-0.00109369+0.j]\n",
      " [ 0.00239113+0.j]\n",
      " [-0.0015631 +0.j]\n",
      " [-0.00163005+0.j]\n",
      " [-0.00127016+0.j]\n",
      " [-0.00175679+0.j]\n",
      " [-0.00232471+0.j]\n",
      " [-0.00167055+0.j]\n",
      " [-0.00154591+0.j]\n",
      " [ 0.00358708+0.j]\n",
      " [-0.00092313+0.j]\n",
      " [-0.00194306+0.j]]\n",
      "Autovectores del modelo de sklearn:\n",
      "[[-0.92260084  0.38575601]]\n"
     ]
    }
   ],
   "source": [
    "from sklearn.decomposition import PCA\n",
    "\n",
    "kernel = 'linear'\n",
    "n_components = 1\n",
    "\n",
    "model_my = KPCA(n_components=n_components, kernel=\"linear\")\n",
    "model_sk = PCA(n_components=n_components)\n",
    "\n",
    "# Training of the models (complete).\n",
    "# ...\n",
    "model_my.fit(X_train)\n",
    "model_sk.fit(X_train)\n",
    "\n",
    "# Comparative of the eigenvectors (complete).\n",
    "# ...\n",
    "print(\"Comparación de autovectores\")\n",
    "print(\"Autovectores de nuestro modelo:\")\n",
    "print(model_my.eigenvectors_norm)\n",
    "print(\"Autovectores del modelo de sklearn:\")\n",
    "print(model_sk.components_)"
   ]
  },
  {
   "cell_type": "code",
   "execution_count": 7,
   "metadata": {},
   "outputs": [
    {
     "name": "stdout",
     "output_type": "stream",
     "text": [
      "-------------------------\n",
      "Comparación de las proyecciones\n",
      "Proyecciones de nuestro modelo:\n",
      "[[-2.91306683 -2.56379231 -4.80706454 -4.59719367 -3.08472867 -2.33060981\n",
      "   7.91074148  5.61290113 -4.47037834 -3.13577591]]\n",
      "Proyecciones del modelo de sklearn:\n",
      "[[-2.91306683 -2.56379231 -4.80706454 -4.59719367 -3.08472867 -2.33060981\n",
      "   7.91074148  5.61290113 -4.47037834 -3.13577591]]\n"
     ]
    }
   ],
   "source": [
    "model_my = KPCA(n_components=n_components, kernel=\"linear\")\n",
    "model_sk = PCA(n_components=n_components)\n",
    "\n",
    "# Training of the models (complete).\n",
    "# ...\n",
    "model_my.fit(X_train)\n",
    "model_sk.fit(X_train)\n",
    "# Comparative of the projections (complete).\n",
    "# ...\n",
    "print(\"-------------------------\")\n",
    "print(\"Comparación de las proyecciones\")\n",
    "print(\"Proyecciones de nuestro modelo:\")\n",
    "print(model_my.transform(X_new).real)\n",
    "print(\"Proyecciones del modelo de sklearn:\")\n",
    "print(model_sk.transform(X_new).T)"
   ]
  },
  {
   "cell_type": "code",
   "execution_count": 8,
   "metadata": {},
   "outputs": [
    {
     "name": "stdout",
     "output_type": "stream",
     "text": [
      "-------------------------\n",
      "Proyecciones del método fit_transform\n",
      "[[-3.87773466 -3.28942576  7.18990337 -2.03669025 -3.41167465  7.53250091\n",
      "  -4.45190229 -2.31009898 -2.56539133 -3.43247054  7.21394658 -2.83652056\n",
      "   9.39657466 -5.5911429   6.20989159  7.38189493 -5.06255323 -2.46361313\n",
      "  -3.11611177  5.81574736 -3.09254152 -3.16693215 -2.23227992  5.48665027\n",
      "   7.07818093  7.3602487   6.45944704 -2.88132965  7.74355934 -2.76372017\n",
      "  -4.67073999 -5.17003815 -3.59796212 -4.08305432 -4.64189293  7.51137545\n",
      "   7.07261001 -3.6374931  -2.84629147 -4.86616211  6.02425983  5.17458119\n",
      "   6.15279871 -2.62690346 -2.81143536 -3.21724775 -4.51827297  5.68137718\n",
      "  -3.75790868  6.90822228  7.32406369  6.54041462  7.90839112 -4.46802509\n",
      "   5.49885517  7.24475149 -2.35755082  6.4800305  -3.22115466 -2.76580919\n",
      "  -4.47609753 -3.81934362 -1.60113438  4.44779142 -3.27499493 -4.87035613\n",
      "  -5.7224499   7.85870166 -3.99148128 -3.92180685 -4.36809952 -5.17683922\n",
      "  -2.75366314  8.23984978 -2.6550103   6.38154927 -3.77977308 -2.86734823\n",
      "  -2.4920138   5.44829613 -3.56158641 -3.71414047 -2.89410775 -4.00291409\n",
      "  -5.29695265 -3.8064209  -3.52243112  8.1733034  -2.10338724 -4.4273404 ]]\n",
      "Proyecciones del método fit_transform2\n",
      "[-3.87773466 -3.28942576  7.18990337 -2.03669025 -3.41167465  7.53250091\n",
      " -4.45190229 -2.31009898 -2.56539133 -3.43247054  7.21394658 -2.83652056\n",
      "  9.39657466 -5.5911429   6.20989159  7.38189493 -5.06255323 -2.46361313\n",
      " -3.11611177  5.81574736 -3.09254152 -3.16693215 -2.23227992  5.48665027\n",
      "  7.07818093  7.3602487   6.45944704 -2.88132965  7.74355934 -2.76372017\n",
      " -4.67073999 -5.17003815 -3.59796212 -4.08305432 -4.64189293  7.51137545\n",
      "  7.07261001 -3.6374931  -2.84629147 -4.86616211  6.02425983  5.17458119\n",
      "  6.15279871 -2.62690346 -2.81143536 -3.21724775 -4.51827297  5.68137718\n",
      " -3.75790868  6.90822228  7.32406369  6.54041462  7.90839112 -4.46802509\n",
      "  5.49885517  7.24475149 -2.35755082  6.4800305  -3.22115466 -2.76580919\n",
      " -4.47609753 -3.81934362 -1.60113438  4.44779142 -3.27499493 -4.87035613\n",
      " -5.7224499   7.85870166 -3.99148128 -3.92180685 -4.36809952 -5.17683922\n",
      " -2.75366314  8.23984978 -2.6550103   6.38154927 -3.77977308 -2.86734823\n",
      " -2.4920138   5.44829613 -3.56158641 -3.71414047 -2.89410775 -4.00291409\n",
      " -5.29695265 -3.8064209  -3.52243112  8.1733034  -2.10338724 -4.4273404 ]\n"
     ]
    }
   ],
   "source": [
    "# Comparative of the projections using both fit_transform methods implemented by us\n",
    "print(\"-------------------------\")\n",
    "print(\"Proyecciones del método fit_transform\")\n",
    "print(model_my.fit_transform(X_train).real)\n",
    "print(\"Proyecciones del método fit_transform2\")\n",
    "print(model_my.fit_transform2(X_train).real)"
   ]
  },
  {
   "cell_type": "code",
   "execution_count": 9,
   "metadata": {},
   "outputs": [
    {
     "name": "stderr",
     "output_type": "stream",
     "text": [
      "c:\\Users\\jonzo\\anaconda3\\lib\\site-packages\\numpy\\core\\_asarray.py:171: ComplexWarning: Casting complex values to real discards the imaginary part\n",
      "  return array(a, dtype, copy=False, order=order, subok=True)\n"
     ]
    },
    {
     "data": {
      "image/png": "[encoded data removed]",
      "text/plain": [
       "<Figure size 1080x360 with 1 Axes>"
      ]
     },
     "metadata": {
      "needs_background": "light"
     },
     "output_type": "display_data"
    }
   ],
   "source": [
    "x_train_transf_my = model_my.transform(X_new)\n",
    "x_train_transf_sk = model_sk.transform(X_new)\n",
    "\n",
    "plt.scatter(x_train_transf_my[:], X_new[:,1], c=y_new, label='my model')\n",
    "plt.scatter(x_train_transf_sk[:], X_new[:,1], c=y_new, marker='s', label='sklearn')\n",
    "plt.legend()\n",
    "plt.show()"
   ]
  },
  {
   "cell_type": "markdown",
   "metadata": {},
   "source": [
    "- En primer lugar tenemos que hacer la comparativa entre los autovectores obtenidos tanto por el modelo PCA como por nuestro modelo KPCA. El modelo PCA, como se indica en la documentación, hace uso de la descomposición svd para hallar los valores y vectores propios. Al realizar la descomposición svd de la matriz de datos X, que es una matriz de dimensiones (90,2), la matriz diagonal asociada tendrá únicamente 2 autovalores, por ello, el autovector asociado tendrá dos elementos. Por otro lado, en nuestro modelo, tendremos un autovector de 90 elementos, uno pues hemos especificado `n_components=1`, lo cual implica tener únicamente vectores es una dirección, y 90 componentes porque es el tamaño de los datos de entrenamiento. \n",
    "- Luego, se han calculado las proyecciones de los puntos nuevos para el modelo de SKlearn y para nuestro modelo, y como se puede observar, se han obtenido los mismos 10 puntos.\n",
    "- Por último, se han representado las proyecciones de los nuevos datos, para nuestro modelo y para el modelo de SKlearn. Como se puede observar, se obtienen las mismas representaciones en las tres figuras. \n",
    "- También se ha hecho una comparación adicional para las transformaciones de los datos de entrenamiento para nuestros dos métodos `fit_transform`, para comprobar que se obtiene el mismo resultado.\n",
    "- Para la comparación de los autovalores y autovectores, se han representado únicamente la parte real y a veces se ha traspuesto el vector para observar con mayor claridad como los resultados quedan iguales. "
   ]
  },
  {
   "cell_type": "markdown",
   "metadata": {},
   "source": [
    "---"
   ]
  },
  {
   "cell_type": "markdown",
   "metadata": {},
   "source": [
    "<div class=\"qst\">\n",
    "\n",
    "* Train and transform a Kernel PCA model using a RBF kernel over the training data (`X_train`), calling both the implemented `KPCA` class and the `KernelPCA` class of `sklearn`.\n",
    "* Transform using the previous two models the new data (`X_new`).\n",
    "* Compare that both classes provide the same outputs (in terms of the eigenvectors and the data projections), describing the obtained results.\n",
    "</div>"
   ]
  },
  {
   "cell_type": "code",
   "execution_count": 10,
   "metadata": {},
   "outputs": [
    {
     "name": "stdout",
     "output_type": "stream",
     "text": [
      "Comparación de los autovectores\n",
      "Autovectores de nuestro modelo\n",
      "[[ 0.06836262 -0.03380803  0.08755414 -0.09471101  0.0065262   0.09804105\n",
      "   0.00759357  0.05201932 -0.04641738  0.06675903  0.11273815 -0.17778204\n",
      "   0.04361036  0.04753199  0.11066928  0.03941534  0.05818873  0.02811017\n",
      "  -0.19398104  0.07362361  0.02945271 -0.1749856  -0.1176125   0.08654216\n",
      "   0.12963207  0.12790533  0.11788689  0.05709254  0.09579103  0.06054818\n",
      "  -0.03091052  0.0579652   0.05182214 -0.10199366 -0.05534675  0.08791072\n",
      "   0.13259448 -0.19072941 -0.04317653 -0.07229141  0.09326254  0.06760298\n",
      "   0.08512147 -0.16018923 -0.17213752 -0.19491857  0.03659787  0.0743319\n",
      "  -0.18544445  0.11687402  0.09313601  0.13123637  0.10427528 -0.11287215\n",
      "   0.09158161  0.1040165   0.01018775  0.11182659 -0.19663195 -0.17126631\n",
      "   0.06348271 -0.15229558  0.04147948  0.04583466 -0.19782225 -0.07343473\n",
      "   0.01423732  0.10827886  0.04690041 -0.17427071 -0.11251528  0.05600139\n",
      "   0.05154152  0.0604698   0.02701818  0.12680926 -0.11953825 -0.036064\n",
      "   0.05363064  0.08824536 -0.18672263 -0.18815346 -0.13120431 -0.15440125\n",
      "   0.0497558   0.06015949  0.04524872  0.0876958  -0.09499274  0.06589393]]\n",
      "Autovectores del modelo de sklearn\n",
      "[[-0.06836262  0.03380803 -0.08755414  0.09471101 -0.0065262  -0.09804105\n",
      "  -0.00759357 -0.05201932  0.04641738 -0.06675903 -0.11273815  0.17778204\n",
      "  -0.04361036 -0.04753199 -0.11066928 -0.03941534 -0.05818873 -0.02811017\n",
      "   0.19398104 -0.07362361 -0.02945271  0.1749856   0.1176125  -0.08654216\n",
      "  -0.12963207 -0.12790533 -0.11788689 -0.05709254 -0.09579103 -0.06054818\n",
      "   0.03091052 -0.0579652  -0.05182214  0.10199366  0.05534675 -0.08791072\n",
      "  -0.13259448  0.19072941  0.04317653  0.07229141 -0.09326254 -0.06760298\n",
      "  -0.08512147  0.16018923  0.17213752  0.19491857 -0.03659787 -0.0743319\n",
      "   0.18544445 -0.11687402 -0.09313601 -0.13123637 -0.10427528  0.11287215\n",
      "  -0.09158161 -0.1040165  -0.01018775 -0.11182659  0.19663195  0.17126631\n",
      "  -0.06348271  0.15229558 -0.04147948 -0.04583466  0.19782225  0.07343473\n",
      "  -0.01423732 -0.10827886 -0.04690041  0.17427071  0.11251528 -0.05600139\n",
      "  -0.05154152 -0.0604698  -0.02701818 -0.12680926  0.11953825  0.036064\n",
      "  -0.05363064 -0.08824536  0.18672263  0.18815346  0.13120431  0.15440125\n",
      "  -0.0497558  -0.06015949 -0.04524872 -0.0876958   0.09499274 -0.06589393]]\n"
     ]
    }
   ],
   "source": [
    "from sklearn.decomposition import KernelPCA\n",
    "\n",
    "kernel = 'rbf'\n",
    "n_components=1\n",
    "\n",
    "# Model definition (complete).\n",
    "model_my = KPCA(n_components=1, kernel=kernel)\n",
    "model_sk = KernelPCA(kernel=kernel, fit_inverse_transform=True, n_components=n_components)\n",
    "\n",
    "# Training of the models (complete).\n",
    "# ...\n",
    "model_my.fit(X_train)\n",
    "model_sk.fit(X_train)\n",
    "\n",
    "# Comparative of the eigenvectors (complete).\n",
    "# ...\n",
    "print(\"Comparación de los autovectores\")\n",
    "print(\"Autovectores de nuestro modelo\")\n",
    "print(model_my.eigenvectors.real.T)\n",
    "print(\"Autovectores del modelo de sklearn\")\n",
    "print(model_sk.alphas_.T)"
   ]
  },
  {
   "cell_type": "code",
   "execution_count": 11,
   "metadata": {},
   "outputs": [
    {
     "name": "stdout",
     "output_type": "stream",
     "text": [
      "[[ 0.38556415  0.54331742  0.03487673 -0.16536335 -0.2276133   0.47658729\n",
      "  -0.31491385 -0.36335373 -0.22042084  0.72367272]]\n",
      "[[ 0.38556415  0.54331742  0.03487673 -0.16536335 -0.2276133   0.47658729\n",
      "  -0.31491385 -0.36335373 -0.22042084  0.72367272]]\n"
     ]
    }
   ],
   "source": [
    "# Comparative of the projections (complete).\n",
    "# ...\n",
    "print(model_my.transform(X_new).real)\n",
    "print(model_sk.transform(X_new).T)"
   ]
  },
  {
   "cell_type": "code",
   "execution_count": 17,
   "metadata": {},
   "outputs": [
    {
     "name": "stderr",
     "output_type": "stream",
     "text": [
      "c:\\Users\\jonzo\\anaconda3\\lib\\site-packages\\numpy\\core\\_asarray.py:171: ComplexWarning: Casting complex values to real discards the imaginary part\n",
      "  return array(a, dtype, copy=False, order=order, subok=True)\n"
     ]
    },
    {
     "data": {
      "image/png": "[encoded data removed]",
      "text/plain": [
       "<Figure size 1080x360 with 1 Axes>"
      ]
     },
     "metadata": {
      "needs_background": "light"
     },
     "output_type": "display_data"
    }
   ],
   "source": [
    "x_train_transf_my_rbf = model_my.transform(X_new)\n",
    "x_train_transf_sk_rbf = model_sk.transform(X_new)\n",
    "\n",
    "plt.scatter(x_train_transf_my_rbf[:], X_new[:,1], c=y_new, label='my model')\n",
    "plt.scatter(x_train_transf_sk_rbf[:], X_new[:,1], c=y_new, marker='s', label='sklearn')\n",
    "plt.legend()\n",
    "plt.show()"
   ]
  },
  {
   "cell_type": "markdown",
   "metadata": {},
   "source": [
    "- Como se puede observar, la comparación de autovalores es correcta para nuestros autovectores no normalizados y el atributo `alphas` de `KernelPCA`, excepto por el signo. Esto es porque nosotros hemos cambiado el signo a los autovalores normalizados y los no normalizados según el criterio que se ha mencionado previamente, mientras que en el método `KernelPCA` se puede observar que no se ha modificado el signo de estos.\n",
    "- Luego, se han calculado las proyecciones de los nuevos datos, y han quedado muy parecidos iguales, tanto en valor numérico como en signo. \n",
    "- Por último, se ha hecho la representación gráfica de las proyecciones, y se puede ver como quedan en los mismos puntos."
   ]
  },
  {
   "cell_type": "markdown",
   "metadata": {},
   "source": [
    "## Comparing linear kernel against Gaussian kernel"
   ]
  },
  {
   "cell_type": "code",
   "execution_count": 13,
   "metadata": {
    "scrolled": false
   },
   "outputs": [
    {
     "data": {
      "text/plain": [
       "<matplotlib.collections.PathCollection at 0x1de4232f700>"
      ]
     },
     "execution_count": 13,
     "metadata": {},
     "output_type": "execute_result"
    },
    {
     "data": {
      "image/png": "[encoded data removed]",
      "text/plain": [
       "<Figure size 1080x360 with 1 Axes>"
      ]
     },
     "metadata": {
      "needs_background": "light"
     },
     "output_type": "display_data"
    }
   ],
   "source": [
    "from sklearn.datasets import make_moons\n",
    "\n",
    "X, y = make_moons(noise=1e-1, random_state=seed)\n",
    "\n",
    "plt.scatter(X[:,0], X[:,1],c=y)"
   ]
  },
  {
   "cell_type": "markdown",
   "metadata": {},
   "source": [
    "<div class=\"qst\">\n",
    "\n",
    "* Using the implemented class `KPCA` compare the result of transforming the above dataset using a linear kernel and an RBF one (looking for an appropriated hyperparameter `gamma` value).\n",
    "* Is there some model able to properly project the classes separately?\n",
    "</div>"
   ]
  },
  {
   "cell_type": "code",
   "execution_count": 18,
   "metadata": {},
   "outputs": [
    {
     "name": "stdout",
     "output_type": "stream",
     "text": [
      "Comparación de las proyecciones en ambos modelos\n",
      "Proyecciones del modelo lineal\n",
      "[[-1.25683752 -1.13956394  0.66932184 -1.34663233  1.1632587  -0.33722133\n",
      "   1.1449425  -0.13970478  1.42698574  0.25444918]]\n",
      "Proyecciones del modelo rbf\n",
      "[[ 0.61480897  0.67941331 -0.50264202  0.56593733 -0.64377067  0.22700084\n",
      "  -0.65694446  0.17880896 -0.61600925 -0.26377064]]\n"
     ]
    }
   ],
   "source": [
    "n_components=1\n",
    "\n",
    "model_linear = KPCA(n_components=n_components, kernel='linear')\n",
    "model_rbf = KPCA(n_components=n_components, kernel='rbf')\n",
    "\n",
    "X_train = X[:90,:]; y_train=y[:90]\n",
    "X_new = X[90:,:]; y_new=y[90:]\n",
    "\n",
    "# Training of the models (complete).\n",
    "# ...\n",
    "model_linear.fit(X_train)\n",
    "model_rbf.fit(X_train)\n",
    "\n",
    "# Comparative of the projections (complete).\n",
    "# ...\n",
    "print(\"Comparación de las proyecciones en ambos modelos\")\n",
    "print(\"Proyecciones del modelo lineal\")\n",
    "print(model_linear.transform(X_new).real)\n",
    "print(\"Proyecciones del modelo rbf\")\n",
    "print(model_rbf.transform(X_new).real)"
   ]
  },
  {
   "cell_type": "markdown",
   "metadata": {},
   "source": [
    "Como se puede observar, las proyecciones son diferentes para ambos modelos. El modelo lineal, al estar basado en productos entre componentes, dará unas proyecciones más distanciadas entre sí; mientras que el modelo rbf, al estar basado en la exponencial de la norma euclídea de las distintas componentes, será más suave y las proyecciones estarán más centradas."
   ]
  }
 ],
 "metadata": {
  "@webio": {
   "lastCommId": null,
   "lastKernelId": null
  },
  "kernelspec": {
   "display_name": "Python 3.9.7 ('base')",
   "language": "python",
   "name": "python3"
  },
  "language_info": {
   "codemirror_mode": {
    "name": "ipython",
    "version": 3
   },
   "file_extension": ".py",
   "mimetype": "text/x-python",
   "name": "python",
   "nbconvert_exporter": "python",
   "pygments_lexer": "ipython3",
   "version": "3.9.7"
  },
  "toc": {
   "base_numbering": 1,
   "nav_menu": {},
   "number_sections": false,
   "sideBar": true,
   "skip_h1_title": false,
   "title_cell": "Table of Contents",
   "title_sidebar": "Contents",
   "toc_cell": false,
   "toc_position": {
    "height": "calc(100% - 180px)",
    "left": "10px",
    "top": "150px",
    "width": "352px"
   },
   "toc_section_display": true,
   "toc_window_display": false
  },
  "vscode": {
   "interpreter": {
    "hash": "1155a2401009aa02600bd2bbf5c6429fdde741e67e7abb166afdd9b65765e4a0"
   }
  }
 },
 "nbformat": 4,
 "nbformat_minor": 2
}
